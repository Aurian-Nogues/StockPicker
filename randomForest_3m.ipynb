{
 "cells": [
  {
   "cell_type": "markdown",
   "metadata": {},
   "source": [
    "### Import data"
   ]
  },
  {
   "cell_type": "code",
   "execution_count": 30,
   "metadata": {},
   "outputs": [
    {
     "data": {
      "text/html": [
       "<div>\n",
       "<style>\n",
       "    .dataframe thead tr:only-child th {\n",
       "        text-align: right;\n",
       "    }\n",
       "\n",
       "    .dataframe thead th {\n",
       "        text-align: left;\n",
       "    }\n",
       "\n",
       "    .dataframe tbody tr th {\n",
       "        vertical-align: top;\n",
       "    }\n",
       "</style>\n",
       "<table border=\"1\" class=\"dataframe\">\n",
       "  <thead>\n",
       "    <tr style=\"text-align: right;\">\n",
       "      <th></th>\n",
       "      <th>outperf vs index 1m</th>\n",
       "      <th>outperf vs index 3m</th>\n",
       "      <th>ST momentum</th>\n",
       "      <th>LT momentum</th>\n",
       "      <th>Index vs max</th>\n",
       "      <th>Index st momentum</th>\n",
       "      <th>ebit vs peak</th>\n",
       "      <th>net income vs peak</th>\n",
       "      <th>market cap vs peak</th>\n",
       "      <th>Margin vs peak</th>\n",
       "      <th>PE</th>\n",
       "      <th>xEbit</th>\n",
       "      <th>xSales</th>\n",
       "      <th>PE vs peak</th>\n",
       "      <th>xEbit vs peak</th>\n",
       "      <th>xSales vs peak</th>\n",
       "      <th>ND/market cap</th>\n",
       "      <th>outperf next  3 months</th>\n",
       "    </tr>\n",
       "  </thead>\n",
       "  <tbody>\n",
       "    <tr>\n",
       "      <th>0</th>\n",
       "      <td>0.007191</td>\n",
       "      <td>-0.083593</td>\n",
       "      <td>0.076685</td>\n",
       "      <td>-0.472196</td>\n",
       "      <td>-0.2</td>\n",
       "      <td>0.017742</td>\n",
       "      <td>0.000000</td>\n",
       "      <td>0.000000</td>\n",
       "      <td>-0.042669</td>\n",
       "      <td>-0.016447</td>\n",
       "      <td>11.096157</td>\n",
       "      <td>8.764507</td>\n",
       "      <td>0.390003</td>\n",
       "      <td>-0.195909</td>\n",
       "      <td>-0.040863</td>\n",
       "      <td>-0.047339</td>\n",
       "      <td>0.046168</td>\n",
       "      <td>0</td>\n",
       "    </tr>\n",
       "    <tr>\n",
       "      <th>1</th>\n",
       "      <td>-0.017525</td>\n",
       "      <td>0.071289</td>\n",
       "      <td>0.009150</td>\n",
       "      <td>-0.346791</td>\n",
       "      <td>-0.2</td>\n",
       "      <td>0.017742</td>\n",
       "      <td>-0.266321</td>\n",
       "      <td>-0.496339</td>\n",
       "      <td>-0.051437</td>\n",
       "      <td>-0.247309</td>\n",
       "      <td>17.685318</td>\n",
       "      <td>8.772884</td>\n",
       "      <td>0.592203</td>\n",
       "      <td>-0.051437</td>\n",
       "      <td>-0.043755</td>\n",
       "      <td>-0.218866</td>\n",
       "      <td>0.185074</td>\n",
       "      <td>0</td>\n",
       "    </tr>\n",
       "    <tr>\n",
       "      <th>2</th>\n",
       "      <td>-0.002132</td>\n",
       "      <td>0.001588</td>\n",
       "      <td>0.024445</td>\n",
       "      <td>0.272849</td>\n",
       "      <td>-0.2</td>\n",
       "      <td>0.017742</td>\n",
       "      <td>0.000000</td>\n",
       "      <td>0.000000</td>\n",
       "      <td>-0.035756</td>\n",
       "      <td>0.000000</td>\n",
       "      <td>19.453475</td>\n",
       "      <td>17.377210</td>\n",
       "      <td>0.837097</td>\n",
       "      <td>-0.235442</td>\n",
       "      <td>-0.168420</td>\n",
       "      <td>-0.027351</td>\n",
       "      <td>0.318709</td>\n",
       "      <td>0</td>\n",
       "    </tr>\n",
       "    <tr>\n",
       "      <th>3</th>\n",
       "      <td>0.044802</td>\n",
       "      <td>0.041664</td>\n",
       "      <td>0.204800</td>\n",
       "      <td>0.556955</td>\n",
       "      <td>-0.2</td>\n",
       "      <td>0.017742</td>\n",
       "      <td>0.000000</td>\n",
       "      <td>0.000000</td>\n",
       "      <td>0.000000</td>\n",
       "      <td>-0.045119</td>\n",
       "      <td>12.874137</td>\n",
       "      <td>10.429705</td>\n",
       "      <td>0.975562</td>\n",
       "      <td>0.000000</td>\n",
       "      <td>-0.008045</td>\n",
       "      <td>-0.052801</td>\n",
       "      <td>0.498034</td>\n",
       "      <td>0</td>\n",
       "    </tr>\n",
       "    <tr>\n",
       "      <th>4</th>\n",
       "      <td>0.001149</td>\n",
       "      <td>0.041071</td>\n",
       "      <td>0.026255</td>\n",
       "      <td>0.251466</td>\n",
       "      <td>-0.2</td>\n",
       "      <td>0.017742</td>\n",
       "      <td>0.000000</td>\n",
       "      <td>0.000000</td>\n",
       "      <td>-0.032763</td>\n",
       "      <td>0.000000</td>\n",
       "      <td>8.221638</td>\n",
       "      <td>4.630687</td>\n",
       "      <td>0.691503</td>\n",
       "      <td>-0.066863</td>\n",
       "      <td>-0.132443</td>\n",
       "      <td>-0.060985</td>\n",
       "      <td>0.141099</td>\n",
       "      <td>0</td>\n",
       "    </tr>\n",
       "  </tbody>\n",
       "</table>\n",
       "</div>"
      ],
      "text/plain": [
       "   outperf vs index 1m  outperf vs index 3m  ST momentum  LT momentum  \\\n",
       "0             0.007191            -0.083593     0.076685    -0.472196   \n",
       "1            -0.017525             0.071289     0.009150    -0.346791   \n",
       "2            -0.002132             0.001588     0.024445     0.272849   \n",
       "3             0.044802             0.041664     0.204800     0.556955   \n",
       "4             0.001149             0.041071     0.026255     0.251466   \n",
       "\n",
       "   Index vs max  Index st momentum  ebit vs peak  net income vs peak  \\\n",
       "0          -0.2           0.017742      0.000000            0.000000   \n",
       "1          -0.2           0.017742     -0.266321           -0.496339   \n",
       "2          -0.2           0.017742      0.000000            0.000000   \n",
       "3          -0.2           0.017742      0.000000            0.000000   \n",
       "4          -0.2           0.017742      0.000000            0.000000   \n",
       "\n",
       "   market cap vs peak  Margin vs peak         PE      xEbit    xSales  \\\n",
       "0           -0.042669       -0.016447  11.096157   8.764507  0.390003   \n",
       "1           -0.051437       -0.247309  17.685318   8.772884  0.592203   \n",
       "2           -0.035756        0.000000  19.453475  17.377210  0.837097   \n",
       "3            0.000000       -0.045119  12.874137  10.429705  0.975562   \n",
       "4           -0.032763        0.000000   8.221638   4.630687  0.691503   \n",
       "\n",
       "   PE vs peak  xEbit vs peak  xSales vs peak  ND/market cap  \\\n",
       "0   -0.195909      -0.040863       -0.047339       0.046168   \n",
       "1   -0.051437      -0.043755       -0.218866       0.185074   \n",
       "2   -0.235442      -0.168420       -0.027351       0.318709   \n",
       "3    0.000000      -0.008045       -0.052801       0.498034   \n",
       "4   -0.066863      -0.132443       -0.060985       0.141099   \n",
       "\n",
       "   outperf next  3 months  \n",
       "0                       0  \n",
       "1                       0  \n",
       "2                       0  \n",
       "3                       0  \n",
       "4                       0  "
      ]
     },
     "execution_count": 30,
     "metadata": {},
     "output_type": "execute_result"
    }
   ],
   "source": [
    "#read data and display first 5 rows\n",
    "import pandas as pd\n",
    "\n",
    "features = pd.read_csv('databases/rf_Database_2_3m.csv')\n",
    "features.head(5)"
   ]
  },
  {
   "cell_type": "markdown",
   "metadata": {},
   "source": [
    "### process database"
   ]
  },
  {
   "cell_type": "code",
   "execution_count": 31,
   "metadata": {},
   "outputs": [
    {
     "name": "stdout",
     "output_type": "stream",
     "text": [
      "(2781, 17)\n",
      "(928, 17)\n",
      "(2781,)\n",
      "(928,)\n"
     ]
    }
   ],
   "source": [
    "#Process database\n",
    "import numpy as np\n",
    "from sklearn.model_selection import train_test_split\n",
    "\n",
    "#save labels\n",
    "labels = np.array(features['outperf next  3 months'])\n",
    "#remove labels\n",
    "features=features.drop('outperf next  3 months', axis = 1)\n",
    "#save features names\n",
    "feature_list = list(features.columns)\n",
    "#convert to numpy array\n",
    "features = np.array(features)\n",
    "\n",
    "X_train, X_cv, y_train, y_cv = train_test_split(features, labels, stratify = labels)\n",
    "\n",
    "print(X_train.shape)\n",
    "print(X_cv.shape)\n",
    "print(y_train.shape)\n",
    "print(y_cv.shape)\n",
    "\n",
    "\n"
   ]
  },
  {
   "cell_type": "markdown",
   "metadata": {},
   "source": [
    "### train model"
   ]
  },
  {
   "cell_type": "code",
   "execution_count": 37,
   "metadata": {},
   "outputs": [
    {
     "data": {
      "text/plain": [
       "RandomForestClassifier(bootstrap=True, class_weight=None, criterion='gini',\n",
       "            max_depth=None, max_features='auto', max_leaf_nodes=None,\n",
       "            min_impurity_decrease=0.0, min_impurity_split=None,\n",
       "            min_samples_leaf=1, min_samples_split=2,\n",
       "            min_weight_fraction_leaf=0.0, n_estimators=10, n_jobs=-1,\n",
       "            oob_score=False, random_state=None, verbose=0,\n",
       "            warm_start=False)"
      ]
     },
     "execution_count": 37,
     "metadata": {},
     "output_type": "execute_result"
    }
   ],
   "source": [
    "#import model\n",
    "from sklearn.ensemble import RandomForestClassifier\n",
    "#clf = RandomForestClassifier(n_jobs=-1, min_samples_split = 2, n_estimators= 200, max_depth = 25, max_features = 17  )\n",
    "#clf = RandomForestClassifier(n_jobs=-1)\n",
    "clf.fit(X_train,y_train)\n",
    "\n"
   ]
  },
  {
   "cell_type": "markdown",
   "metadata": {},
   "source": [
    "### Save predictions"
   ]
  },
  {
   "cell_type": "code",
   "execution_count": 38,
   "metadata": {},
   "outputs": [
    {
     "ename": "NameError",
     "evalue": "name 'test_features' is not defined",
     "output_type": "error",
     "traceback": [
      "\u001b[1;31m---------------------------------------------------------------------------\u001b[0m",
      "\u001b[1;31mNameError\u001b[0m                                 Traceback (most recent call last)",
      "\u001b[1;32m<ipython-input-38-3663aa5af1db>\u001b[0m in \u001b[0;36m<module>\u001b[1;34m\u001b[0m\n\u001b[1;32m----> 1\u001b[1;33m \u001b[0mpredictions\u001b[0m \u001b[1;33m=\u001b[0m \u001b[0mclf\u001b[0m\u001b[1;33m.\u001b[0m\u001b[0mpredict\u001b[0m\u001b[1;33m(\u001b[0m\u001b[0mtest_features\u001b[0m\u001b[1;33m)\u001b[0m\u001b[1;33m\u001b[0m\u001b[1;33m\u001b[0m\u001b[0m\n\u001b[0m\u001b[0;32m      2\u001b[0m \u001b[0mpredictions\u001b[0m \u001b[1;33m=\u001b[0m \u001b[0mpd\u001b[0m\u001b[1;33m.\u001b[0m\u001b[0mDataFrame\u001b[0m\u001b[1;33m(\u001b[0m\u001b[0mpredictions\u001b[0m\u001b[1;33m,\u001b[0m \u001b[0mcolumns\u001b[0m\u001b[1;33m=\u001b[0m\u001b[1;33m[\u001b[0m\u001b[1;34m'predictions'\u001b[0m\u001b[1;33m]\u001b[0m\u001b[1;33m)\u001b[0m\u001b[1;33m.\u001b[0m\u001b[0mto_csv\u001b[0m\u001b[1;33m(\u001b[0m\u001b[1;34m'databases/rf_Database_2_results.csv'\u001b[0m\u001b[1;33m)\u001b[0m\u001b[1;33m\u001b[0m\u001b[1;33m\u001b[0m\u001b[0m\n",
      "\u001b[1;31mNameError\u001b[0m: name 'test_features' is not defined"
     ]
    }
   ],
   "source": [
    "predictions = clf.predict(test_features)\n",
    "predictions = pd.DataFrame(predictions, columns=['predictions']).to_csv('databases/rf_Database_2_results.csv')"
   ]
  },
  {
   "cell_type": "markdown",
   "metadata": {},
   "source": [
    "### Performance"
   ]
  },
  {
   "cell_type": "code",
   "execution_count": 39,
   "metadata": {},
   "outputs": [
    {
     "name": "stdout",
     "output_type": "stream",
     "text": [
      "Precision:  0.6730769230769231\n",
      "recall:  0.5398457583547558\n",
      "F1:  0.5991440798858774\n",
      "accuracy:  0.697198275862069\n"
     ]
    }
   ],
   "source": [
    "from sklearn.metrics import accuracy_score\n",
    "from sklearn.metrics import precision_score\n",
    "from sklearn.metrics import recall_score\n",
    "from sklearn.metrics import f1_score\n",
    "\n",
    "#generate predictions\n",
    "predictions = clf.predict(X_cv)\n",
    "\n",
    "#Test model scores\n",
    "precision = precision_score(y_cv, predictions)\n",
    "print('Precision: ', precision)\n",
    "recall = recall_score(y_cv, predictions)\n",
    "print('recall: ', recall)\n",
    "F1 = f1_score(y_cv, predictions)\n",
    "print('F1: ', F1)\n",
    "accuracy = accuracy_score(y_cv, predictions)\n",
    "print('accuracy: ', accuracy)\n"
   ]
  },
  {
   "cell_type": "markdown",
   "metadata": {},
   "source": [
    "### features importance"
   ]
  },
  {
   "cell_type": "code",
   "execution_count": 40,
   "metadata": {},
   "outputs": [
    {
     "name": "stdout",
     "output_type": "stream",
     "text": [
      "Variable: Index st momentum    Importance: 0.09\n",
      "Variable: ST momentum          Importance: 0.08\n",
      "Variable: LT momentum          Importance: 0.08\n",
      "Variable: outperf vs index 3m  Importance: 0.07\n",
      "Variable: xSales               Importance: 0.07\n",
      "Variable: PE vs peak           Importance: 0.07\n",
      "Variable: ND/market cap        Importance: 0.07\n",
      "Variable: outperf vs index 1m  Importance: 0.06\n",
      "Variable: market cap vs peak   Importance: 0.06\n",
      "Variable: PE                   Importance: 0.06\n",
      "Variable: xEbit                Importance: 0.06\n",
      "Variable: xEbit vs peak        Importance: 0.06\n",
      "Variable: xSales vs peak       Importance: 0.06\n",
      "Variable: Margin vs peak       Importance: 0.04\n",
      "Variable: net income vs peak   Importance: 0.03\n",
      "Variable: Index vs max         Importance: 0.02\n",
      "Variable: ebit vs peak         Importance: 0.02\n"
     ]
    }
   ],
   "source": [
    "# Get numerical feature importances\n",
    "importances = list(clf.feature_importances_)\n",
    "\n",
    "# List of tuples with variable and importance\n",
    "feature_importances = [(feature, round(importance, 2)) for feature, importance in zip(feature_list, importances)]\n",
    "\n",
    "# Sort the feature importances by most important first\n",
    "feature_importances = sorted(feature_importances, key = lambda x: x[1], reverse = True)\n",
    "\n",
    "# Print out the feature and importances \n",
    "[print('Variable: {:20} Importance: {}'.format(*pair)) for pair in feature_importances];"
   ]
  },
  {
   "cell_type": "markdown",
   "metadata": {},
   "source": []
  },
  {
   "cell_type": "code",
   "execution_count": null,
   "metadata": {},
   "outputs": [],
   "source": []
  }
 ],
 "metadata": {
  "kernelspec": {
   "display_name": "TensorFlow-GPU",
   "language": "python",
   "name": "tf-gpu"
  },
  "language_info": {
   "codemirror_mode": {
    "name": "ipython",
    "version": 3
   },
   "file_extension": ".py",
   "mimetype": "text/x-python",
   "name": "python",
   "nbconvert_exporter": "python",
   "pygments_lexer": "ipython3",
   "version": "3.6.8"
  }
 },
 "nbformat": 4,
 "nbformat_minor": 2
}
