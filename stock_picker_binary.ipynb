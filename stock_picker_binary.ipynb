{
 "cells": [
  {
   "cell_type": "code",
   "execution_count": 1,
   "metadata": {},
   "outputs": [
    {
     "name": "stderr",
     "output_type": "stream",
     "text": [
      "Using TensorFlow backend.\n"
     ]
    }
   ],
   "source": [
    "from ipynb.fs.full.functions import import_data\n",
    "from keras.models import Sequential\n",
    "from keras.layers import Dense, Activation, Dropout\n",
    "from keras import optimizers, regularizers\n",
    "import numpy as np\n",
    "import keras.utils\n",
    "import matplotlib.pyplot as plt\n",
    "import pandas as pd\n"
   ]
  },
  {
   "cell_type": "markdown",
   "metadata": {},
   "source": [
    "### Import data"
   ]
  },
  {
   "cell_type": "code",
   "execution_count": 2,
   "metadata": {},
   "outputs": [],
   "source": [
    "#import training set\n",
    "X_train, y_train = import_data('databases/Database_2_training.csv')\n",
    "X_test, y_test = import_data('databases/Database_2_test.csv')\n",
    "input_size = X_train.shape[1]\n"
   ]
  },
  {
   "cell_type": "markdown",
   "metadata": {},
   "source": [
    "### Build model \n",
    "\n"
   ]
  },
  {
   "cell_type": "code",
   "execution_count": 3,
   "metadata": {},
   "outputs": [
    {
     "name": "stdout",
     "output_type": "stream",
     "text": [
      "WARNING:tensorflow:From C:\\Users\\auria\\Anaconda3\\envs\\keras_environment\\lib\\site-packages\\tensorflow\\python\\framework\\op_def_library.py:263: colocate_with (from tensorflow.python.framework.ops) is deprecated and will be removed in a future version.\n",
      "Instructions for updating:\n",
      "Colocations handled automatically by placer.\n",
      "WARNING:tensorflow:From C:\\Users\\auria\\Anaconda3\\envs\\keras_environment\\lib\\site-packages\\keras\\backend\\tensorflow_backend.py:3445: calling dropout (from tensorflow.python.ops.nn_ops) with keep_prob is deprecated and will be removed in a future version.\n",
      "Instructions for updating:\n",
      "Please use `rate` instead of `keep_prob`. Rate should be set to `rate = 1 - keep_prob`.\n"
     ]
    }
   ],
   "source": [
    "model = Sequential()\n",
    "\n",
    "model.add(Dense(512, activation='relu', input_dim=input_size,kernel_regularizer=regularizers.l2(0.00)))\n",
    "model.add(Dropout(0.2))\n",
    "#model.add(Dense(256, activation='relu',kernel_regularizer=regularizers.l2(0.01)))\n",
    "#model.add(Dropout(0.2))\n",
    "model.add(Dense(1, activation='sigmoid'))"
   ]
  },
  {
   "cell_type": "markdown",
   "metadata": {},
   "source": [
    "### Compile model"
   ]
  },
  {
   "cell_type": "code",
   "execution_count": 4,
   "metadata": {},
   "outputs": [],
   "source": [
    "optimizer = optimizers.Adam(lr=0.001, beta_1 = 0.9, beta_2=0.999)\n",
    "model.compile(optimizer=optimizer,\n",
    "              loss='binary_crossentropy',\n",
    "              metrics=['accuracy'])"
   ]
  },
  {
   "cell_type": "markdown",
   "metadata": {},
   "source": [
    "### Train model"
   ]
  },
  {
   "cell_type": "code",
   "execution_count": 5,
   "metadata": {},
   "outputs": [
    {
     "name": "stdout",
     "output_type": "stream",
     "text": [
      "WARNING:tensorflow:From C:\\Users\\auria\\Anaconda3\\envs\\keras_environment\\lib\\site-packages\\tensorflow\\python\\ops\\math_ops.py:3066: to_int32 (from tensorflow.python.ops.math_ops) is deprecated and will be removed in a future version.\n",
      "Instructions for updating:\n",
      "Use tf.cast instead.\n",
      "Train on 2267 samples, validate on 756 samples\n",
      "Epoch 1/150\n",
      "2267/2267 [==============================] - 2s 1ms/step - loss: 0.8640 - acc: 0.6436 - val_loss: 0.6736 - val_acc: 0.7130\n",
      "Epoch 2/150\n",
      "2267/2267 [==============================] - 0s 179us/step - loss: 0.8219 - acc: 0.6356 - val_loss: 0.6690 - val_acc: 0.6680\n",
      "Epoch 3/150\n",
      "2267/2267 [==============================] - 0s 172us/step - loss: 0.8276 - acc: 0.6449 - val_loss: 0.6045 - val_acc: 0.7302\n",
      "Epoch 4/150\n",
      "2267/2267 [==============================] - 0s 172us/step - loss: 0.7326 - acc: 0.6749 - val_loss: 0.5975 - val_acc: 0.7434\n",
      "Epoch 5/150\n",
      "2267/2267 [==============================] - 0s 172us/step - loss: 0.7816 - acc: 0.6559 - val_loss: 0.6244 - val_acc: 0.7381\n",
      "Epoch 6/150\n",
      "2267/2267 [==============================] - 0s 170us/step - loss: 0.7616 - acc: 0.6652 - val_loss: 0.6267 - val_acc: 0.7368\n",
      "Epoch 7/150\n",
      "2267/2267 [==============================] - 0s 173us/step - loss: 0.7623 - acc: 0.6714 - val_loss: 0.6481 - val_acc: 0.6984\n",
      "Epoch 8/150\n",
      "2267/2267 [==============================] - 0s 172us/step - loss: 0.7098 - acc: 0.6815 - val_loss: 0.6960 - val_acc: 0.5979\n",
      "Epoch 9/150\n",
      "2267/2267 [==============================] - 0s 171us/step - loss: 0.7044 - acc: 0.6798 - val_loss: 0.6557 - val_acc: 0.7183\n",
      "Epoch 10/150\n",
      "2267/2267 [==============================] - 0s 170us/step - loss: 0.7076 - acc: 0.6780 - val_loss: 0.6033 - val_acc: 0.7368\n",
      "Epoch 11/150\n",
      "2267/2267 [==============================] - 0s 174us/step - loss: 0.7210 - acc: 0.6793 - val_loss: 0.5998 - val_acc: 0.7460\n",
      "Epoch 12/150\n",
      "2267/2267 [==============================] - ETA: 0s - loss: 0.6994 - acc: 0.675 - 0s 170us/step - loss: 0.6924 - acc: 0.6820 - val_loss: 0.5693 - val_acc: 0.7381\n",
      "Epoch 13/150\n",
      "2267/2267 [==============================] - 0s 173us/step - loss: 0.7071 - acc: 0.6912 - val_loss: 0.5788 - val_acc: 0.7434\n",
      "Epoch 14/150\n",
      "2267/2267 [==============================] - 0s 174us/step - loss: 0.6858 - acc: 0.6846 - val_loss: 0.5849 - val_acc: 0.7434\n",
      "Epoch 15/150\n",
      "2267/2267 [==============================] - 0s 171us/step - loss: 0.7066 - acc: 0.6939 - val_loss: 0.5819 - val_acc: 0.7328\n",
      "Epoch 16/150\n",
      "2267/2267 [==============================] - 0s 173us/step - loss: 0.6871 - acc: 0.6850 - val_loss: 0.6172 - val_acc: 0.7328\n",
      "Epoch 17/150\n",
      "2267/2267 [==============================] - 0s 171us/step - loss: 0.6799 - acc: 0.6802 - val_loss: 0.6778 - val_acc: 0.7037\n",
      "Epoch 18/150\n",
      "2267/2267 [==============================] - 0s 170us/step - loss: 0.6799 - acc: 0.6877 - val_loss: 0.6014 - val_acc: 0.7421\n",
      "Epoch 19/150\n",
      "2267/2267 [==============================] - 0s 170us/step - loss: 0.7039 - acc: 0.6855 - val_loss: 0.5838 - val_acc: 0.7434\n",
      "Epoch 20/150\n",
      "2267/2267 [==============================] - 0s 172us/step - loss: 0.6486 - acc: 0.6934 - val_loss: 0.5945 - val_acc: 0.7421\n",
      "Epoch 21/150\n",
      "2267/2267 [==============================] - 0s 174us/step - loss: 0.6871 - acc: 0.6873 - val_loss: 0.6100 - val_acc: 0.7368\n",
      "Epoch 22/150\n",
      "2267/2267 [==============================] - 0s 180us/step - loss: 0.6967 - acc: 0.6890 - val_loss: 0.5875 - val_acc: 0.7434\n",
      "Epoch 23/150\n",
      "2267/2267 [==============================] - 0s 186us/step - loss: 0.6880 - acc: 0.6934 - val_loss: 0.6188 - val_acc: 0.7381\n",
      "Epoch 24/150\n",
      "2267/2267 [==============================] - 0s 171us/step - loss: 0.6914 - acc: 0.6925 - val_loss: 0.5896 - val_acc: 0.7434\n",
      "Epoch 25/150\n",
      "2267/2267 [==============================] - 0s 173us/step - loss: 0.6741 - acc: 0.6899 - val_loss: 0.6117 - val_acc: 0.7434\n",
      "Epoch 26/150\n",
      "2267/2267 [==============================] - 0s 172us/step - loss: 0.6593 - acc: 0.6974 - val_loss: 0.5842 - val_acc: 0.7434\n",
      "Epoch 27/150\n",
      "2267/2267 [==============================] - 0s 177us/step - loss: 0.6658 - acc: 0.6890 - val_loss: 0.5808 - val_acc: 0.7434\n",
      "Epoch 28/150\n",
      "2267/2267 [==============================] - 0s 191us/step - loss: 0.6668 - acc: 0.6855 - val_loss: 0.6048 - val_acc: 0.7434\n",
      "Epoch 29/150\n",
      "2267/2267 [==============================] - 0s 190us/step - loss: 0.6414 - acc: 0.6925 - val_loss: 0.6248 - val_acc: 0.7434\n",
      "Epoch 30/150\n",
      "2267/2267 [==============================] - 0s 176us/step - loss: 0.6445 - acc: 0.6952 - val_loss: 0.6203 - val_acc: 0.7434\n",
      "Epoch 31/150\n",
      "2267/2267 [==============================] - 0s 172us/step - loss: 0.6339 - acc: 0.6943 - val_loss: 0.5924 - val_acc: 0.7434\n",
      "Epoch 32/150\n",
      "2267/2267 [==============================] - 0s 173us/step - loss: 0.6339 - acc: 0.6917 - val_loss: 0.6011 - val_acc: 0.7328\n",
      "Epoch 33/150\n",
      "2267/2267 [==============================] - 0s 176us/step - loss: 0.6443 - acc: 0.6939 - val_loss: 0.5912 - val_acc: 0.7434\n",
      "Epoch 34/150\n",
      "2267/2267 [==============================] - 0s 174us/step - loss: 0.6432 - acc: 0.6917 - val_loss: 0.6121 - val_acc: 0.7434\n",
      "Epoch 35/150\n",
      "2267/2267 [==============================] - 0s 185us/step - loss: 0.6218 - acc: 0.6974 - val_loss: 0.6033 - val_acc: 0.7434\n",
      "Epoch 36/150\n",
      "2267/2267 [==============================] - 0s 174us/step - loss: 0.6416 - acc: 0.6925 - val_loss: 0.5940 - val_acc: 0.7328\n",
      "Epoch 37/150\n",
      "2267/2267 [==============================] - 0s 174us/step - loss: 0.6276 - acc: 0.6943 - val_loss: 0.5989 - val_acc: 0.7434\n",
      "Epoch 38/150\n",
      "2267/2267 [==============================] - 0s 177us/step - loss: 0.6247 - acc: 0.6917 - val_loss: 0.5934 - val_acc: 0.7328\n",
      "Epoch 39/150\n",
      "2267/2267 [==============================] - 0s 180us/step - loss: 0.6333 - acc: 0.6917 - val_loss: 0.6031 - val_acc: 0.7434\n",
      "Epoch 40/150\n",
      "2267/2267 [==============================] - 0s 174us/step - loss: 0.6408 - acc: 0.6925 - val_loss: 0.5992 - val_acc: 0.7434\n",
      "Epoch 41/150\n",
      "2267/2267 [==============================] - 0s 177us/step - loss: 0.6348 - acc: 0.6899 - val_loss: 0.5894 - val_acc: 0.7434\n",
      "Epoch 42/150\n",
      "2267/2267 [==============================] - 0s 174us/step - loss: 0.6195 - acc: 0.6970 - val_loss: 0.6094 - val_acc: 0.7434\n",
      "Epoch 43/150\n",
      "2267/2267 [==============================] - 0s 175us/step - loss: 0.6244 - acc: 0.6943 - val_loss: 0.5865 - val_acc: 0.7434\n",
      "Epoch 44/150\n",
      "2267/2267 [==============================] - 0s 174us/step - loss: 0.6301 - acc: 0.6903 - val_loss: 0.5908 - val_acc: 0.7434\n",
      "Epoch 45/150\n",
      "2267/2267 [==============================] - 0s 174us/step - loss: 0.6303 - acc: 0.6930 - val_loss: 0.5974 - val_acc: 0.7328\n",
      "Epoch 46/150\n",
      "2267/2267 [==============================] - 0s 174us/step - loss: 0.6223 - acc: 0.6948 - val_loss: 0.5978 - val_acc: 0.7434\n",
      "Epoch 47/150\n",
      "2267/2267 [==============================] - 0s 176us/step - loss: 0.6197 - acc: 0.6934 - val_loss: 0.5774 - val_acc: 0.7434\n",
      "Epoch 48/150\n",
      "2267/2267 [==============================] - 0s 173us/step - loss: 0.6241 - acc: 0.6921 - val_loss: 0.5907 - val_acc: 0.7434\n",
      "Epoch 49/150\n",
      "2267/2267 [==============================] - 0s 178us/step - loss: 0.6148 - acc: 0.6903 - val_loss: 0.5827 - val_acc: 0.7434\n",
      "Epoch 50/150\n",
      "2267/2267 [==============================] - 0s 174us/step - loss: 0.6195 - acc: 0.6921 - val_loss: 0.6089 - val_acc: 0.7328\n",
      "Epoch 51/150\n",
      "2267/2267 [==============================] - 0s 176us/step - loss: 0.6146 - acc: 0.6956 - val_loss: 0.5763 - val_acc: 0.7434\n",
      "Epoch 52/150\n",
      "2267/2267 [==============================] - 0s 177us/step - loss: 0.6141 - acc: 0.6948 - val_loss: 0.6001 - val_acc: 0.7328\n",
      "Epoch 53/150\n",
      "2267/2267 [==============================] - 0s 173us/step - loss: 0.6206 - acc: 0.6930 - val_loss: 0.5762 - val_acc: 0.7434\n",
      "Epoch 54/150\n",
      "2267/2267 [==============================] - 0s 174us/step - loss: 0.6112 - acc: 0.6939 - val_loss: 0.5791 - val_acc: 0.7434\n",
      "Epoch 55/150\n",
      "2267/2267 [==============================] - 0s 175us/step - loss: 0.6183 - acc: 0.6939 - val_loss: 0.5875 - val_acc: 0.7434\n",
      "Epoch 56/150\n",
      "2267/2267 [==============================] - 0s 176us/step - loss: 0.6082 - acc: 0.6939 - val_loss: 0.5977 - val_acc: 0.7434\n",
      "Epoch 57/150\n",
      "2267/2267 [==============================] - 0s 172us/step - loss: 0.6115 - acc: 0.6921 - val_loss: 0.5930 - val_acc: 0.7434\n"
     ]
    },
    {
     "name": "stdout",
     "output_type": "stream",
     "text": [
      "Epoch 58/150\n",
      "2267/2267 [==============================] - 0s 174us/step - loss: 0.6187 - acc: 0.6939 - val_loss: 0.5841 - val_acc: 0.7434\n",
      "Epoch 59/150\n",
      "2267/2267 [==============================] - 0s 170us/step - loss: 0.6160 - acc: 0.6917 - val_loss: 0.5840 - val_acc: 0.7434\n",
      "Epoch 60/150\n",
      "2267/2267 [==============================] - 0s 172us/step - loss: 0.6166 - acc: 0.6921 - val_loss: 0.5826 - val_acc: 0.7434\n",
      "Epoch 61/150\n",
      "2267/2267 [==============================] - 0s 171us/step - loss: 0.6115 - acc: 0.6930 - val_loss: 0.5836 - val_acc: 0.7434\n",
      "Epoch 62/150\n",
      "2267/2267 [==============================] - 0s 171us/step - loss: 0.6131 - acc: 0.6908 - val_loss: 0.5874 - val_acc: 0.7434\n",
      "Epoch 63/150\n",
      "2267/2267 [==============================] - 0s 173us/step - loss: 0.6117 - acc: 0.6956 - val_loss: 0.5910 - val_acc: 0.7434\n",
      "Epoch 64/150\n",
      "2267/2267 [==============================] - 0s 171us/step - loss: 0.6099 - acc: 0.6961 - val_loss: 0.5919 - val_acc: 0.7434\n",
      "Epoch 65/150\n",
      "2267/2267 [==============================] - 0s 173us/step - loss: 0.6111 - acc: 0.6943 - val_loss: 0.5853 - val_acc: 0.7434\n",
      "Epoch 66/150\n",
      "2267/2267 [==============================] - 0s 172us/step - loss: 0.6133 - acc: 0.6925 - val_loss: 0.5846 - val_acc: 0.7434\n",
      "Epoch 67/150\n",
      "2267/2267 [==============================] - 0s 173us/step - loss: 0.6095 - acc: 0.6917 - val_loss: 0.5787 - val_acc: 0.7434\n",
      "Epoch 68/150\n",
      "2267/2267 [==============================] - 0s 173us/step - loss: 0.6092 - acc: 0.6961 - val_loss: 0.5742 - val_acc: 0.7434\n",
      "Epoch 69/150\n",
      "2267/2267 [==============================] - 0s 173us/step - loss: 0.6075 - acc: 0.6921 - val_loss: 0.5827 - val_acc: 0.7434\n",
      "Epoch 70/150\n",
      "2267/2267 [==============================] - 0s 171us/step - loss: 0.6114 - acc: 0.6952 - val_loss: 0.5861 - val_acc: 0.7434\n",
      "Epoch 71/150\n",
      "2267/2267 [==============================] - 0s 171us/step - loss: 0.6072 - acc: 0.6952 - val_loss: 0.6033 - val_acc: 0.7434\n",
      "Epoch 72/150\n",
      "2267/2267 [==============================] - 0s 171us/step - loss: 0.6117 - acc: 0.6956 - val_loss: 0.5841 - val_acc: 0.7434\n",
      "Epoch 73/150\n",
      "2267/2267 [==============================] - 0s 173us/step - loss: 0.6099 - acc: 0.6952 - val_loss: 0.6062 - val_acc: 0.7434\n",
      "Epoch 74/150\n",
      "2267/2267 [==============================] - 0s 171us/step - loss: 0.6075 - acc: 0.6934 - val_loss: 0.5784 - val_acc: 0.7434\n",
      "Epoch 75/150\n",
      "2267/2267 [==============================] - 0s 172us/step - loss: 0.6047 - acc: 0.6948 - val_loss: 0.5955 - val_acc: 0.7434\n",
      "Epoch 76/150\n",
      "2267/2267 [==============================] - 0s 175us/step - loss: 0.6105 - acc: 0.6965 - val_loss: 0.5915 - val_acc: 0.7434\n",
      "Epoch 77/150\n",
      "2267/2267 [==============================] - 0s 179us/step - loss: 0.6107 - acc: 0.6943 - val_loss: 0.5836 - val_acc: 0.7434\n",
      "Epoch 78/150\n",
      "2267/2267 [==============================] - 0s 179us/step - loss: 0.6073 - acc: 0.6943 - val_loss: 0.5765 - val_acc: 0.7434\n",
      "Epoch 79/150\n",
      "2267/2267 [==============================] - 0s 174us/step - loss: 0.6088 - acc: 0.6939 - val_loss: 0.5925 - val_acc: 0.7434\n",
      "Epoch 80/150\n",
      "2267/2267 [==============================] - 0s 186us/step - loss: 0.6021 - acc: 0.6983 - val_loss: 0.5804 - val_acc: 0.7421\n",
      "Epoch 81/150\n",
      "2267/2267 [==============================] - 0s 172us/step - loss: 0.6031 - acc: 0.6948 - val_loss: 0.5913 - val_acc: 0.7394\n",
      "Epoch 82/150\n",
      "2267/2267 [==============================] - 0s 172us/step - loss: 0.6062 - acc: 0.6934 - val_loss: 0.6183 - val_acc: 0.7315\n",
      "Epoch 83/150\n",
      "2267/2267 [==============================] - 0s 176us/step - loss: 0.6078 - acc: 0.6952 - val_loss: 0.5887 - val_acc: 0.7434\n",
      "Epoch 84/150\n",
      "2267/2267 [==============================] - 0s 191us/step - loss: 0.6089 - acc: 0.6930 - val_loss: 0.5893 - val_acc: 0.7434\n",
      "Epoch 85/150\n",
      "2267/2267 [==============================] - 0s 184us/step - loss: 0.6047 - acc: 0.6948 - val_loss: 0.6029 - val_acc: 0.7434\n",
      "Epoch 86/150\n",
      "2267/2267 [==============================] - 0s 183us/step - loss: 0.6059 - acc: 0.6934 - val_loss: 0.5940 - val_acc: 0.7434\n",
      "Epoch 87/150\n",
      "2267/2267 [==============================] - 0s 183us/step - loss: 0.6081 - acc: 0.6939 - val_loss: 0.5925 - val_acc: 0.7434\n",
      "Epoch 88/150\n",
      "2267/2267 [==============================] - 0s 196us/step - loss: 0.6058 - acc: 0.6939 - val_loss: 0.6018 - val_acc: 0.7434\n",
      "Epoch 89/150\n",
      "2267/2267 [==============================] - 0s 184us/step - loss: 0.6062 - acc: 0.6908 - val_loss: 0.5903 - val_acc: 0.7447\n",
      "Epoch 90/150\n",
      "2267/2267 [==============================] - 0s 171us/step - loss: 0.6056 - acc: 0.6948 - val_loss: 0.5886 - val_acc: 0.7434\n",
      "Epoch 91/150\n",
      "2267/2267 [==============================] - 0s 174us/step - loss: 0.6070 - acc: 0.6961 - val_loss: 0.5921 - val_acc: 0.7394\n",
      "Epoch 92/150\n",
      "2267/2267 [==============================] - 0s 176us/step - loss: 0.6078 - acc: 0.6948 - val_loss: 0.5970 - val_acc: 0.7421\n",
      "Epoch 93/150\n",
      "2267/2267 [==============================] - 0s 171us/step - loss: 0.6034 - acc: 0.6978 - val_loss: 0.6022 - val_acc: 0.7368\n",
      "Epoch 94/150\n",
      "2267/2267 [==============================] - 0s 181us/step - loss: 0.6076 - acc: 0.6930 - val_loss: 0.5921 - val_acc: 0.7381\n",
      "Epoch 95/150\n",
      "2267/2267 [==============================] - 0s 174us/step - loss: 0.6020 - acc: 0.6970 - val_loss: 0.6046 - val_acc: 0.7381\n",
      "Epoch 96/150\n",
      "2267/2267 [==============================] - 0s 179us/step - loss: 0.6063 - acc: 0.6934 - val_loss: 0.5928 - val_acc: 0.7341\n",
      "Epoch 97/150\n",
      "2267/2267 [==============================] - 0s 171us/step - loss: 0.6021 - acc: 0.6921 - val_loss: 0.5990 - val_acc: 0.7354\n",
      "Epoch 98/150\n",
      "2267/2267 [==============================] - 0s 171us/step - loss: 0.6045 - acc: 0.6970 - val_loss: 0.5909 - val_acc: 0.7341\n",
      "Epoch 99/150\n",
      "2267/2267 [==============================] - 0s 172us/step - loss: 0.6068 - acc: 0.6978 - val_loss: 0.5834 - val_acc: 0.7394\n",
      "Epoch 100/150\n",
      "2267/2267 [==============================] - 0s 173us/step - loss: 0.6059 - acc: 0.6952 - val_loss: 0.5914 - val_acc: 0.7354\n",
      "Epoch 101/150\n",
      "2267/2267 [==============================] - 0s 172us/step - loss: 0.6038 - acc: 0.6970 - val_loss: 0.5944 - val_acc: 0.7394\n",
      "Epoch 102/150\n",
      "2267/2267 [==============================] - 0s 174us/step - loss: 0.6048 - acc: 0.6952 - val_loss: 0.5944 - val_acc: 0.7381\n",
      "Epoch 103/150\n",
      "2267/2267 [==============================] - 0s 173us/step - loss: 0.6072 - acc: 0.6952 - val_loss: 0.5904 - val_acc: 0.7341\n",
      "Epoch 104/150\n",
      "2267/2267 [==============================] - 0s 171us/step - loss: 0.6020 - acc: 0.6965 - val_loss: 0.5939 - val_acc: 0.7354\n",
      "Epoch 105/150\n",
      "2267/2267 [==============================] - 0s 172us/step - loss: 0.6038 - acc: 0.6983 - val_loss: 0.5989 - val_acc: 0.7394\n",
      "Epoch 106/150\n",
      "2267/2267 [==============================] - 0s 172us/step - loss: 0.6041 - acc: 0.6987 - val_loss: 0.5821 - val_acc: 0.7315\n",
      "Epoch 107/150\n",
      "2267/2267 [==============================] - 0s 174us/step - loss: 0.6053 - acc: 0.6970 - val_loss: 0.5935 - val_acc: 0.7381\n",
      "Epoch 108/150\n",
      "2267/2267 [==============================] - 0s 173us/step - loss: 0.6065 - acc: 0.6983 - val_loss: 0.6062 - val_acc: 0.7381\n",
      "Epoch 109/150\n",
      "2267/2267 [==============================] - 0s 173us/step - loss: 0.6030 - acc: 0.6943 - val_loss: 0.5931 - val_acc: 0.7381\n",
      "Epoch 110/150\n",
      "2267/2267 [==============================] - 0s 172us/step - loss: 0.6039 - acc: 0.6952 - val_loss: 0.5884 - val_acc: 0.7368\n",
      "Epoch 111/150\n",
      "2267/2267 [==============================] - 0s 172us/step - loss: 0.6026 - acc: 0.6956 - val_loss: 0.5958 - val_acc: 0.7354\n",
      "Epoch 112/150\n",
      "2267/2267 [==============================] - 0s 173us/step - loss: 0.6036 - acc: 0.6956 - val_loss: 0.5961 - val_acc: 0.7354\n",
      "Epoch 113/150\n",
      "2267/2267 [==============================] - 0s 172us/step - loss: 0.6040 - acc: 0.6965 - val_loss: 0.6051 - val_acc: 0.7381\n",
      "Epoch 114/150\n",
      "2267/2267 [==============================] - 0s 172us/step - loss: 0.6023 - acc: 0.6996 - val_loss: 0.5909 - val_acc: 0.7354\n",
      "Epoch 115/150\n",
      "2267/2267 [==============================] - 0s 172us/step - loss: 0.6040 - acc: 0.6952 - val_loss: 0.5980 - val_acc: 0.7381\n",
      "Epoch 116/150\n",
      "2267/2267 [==============================] - 0s 171us/step - loss: 0.5999 - acc: 0.6983 - val_loss: 0.5845 - val_acc: 0.7368\n",
      "Epoch 117/150\n"
     ]
    },
    {
     "name": "stdout",
     "output_type": "stream",
     "text": [
      "2267/2267 [==============================] - 0s 175us/step - loss: 0.6038 - acc: 0.6956 - val_loss: 0.5992 - val_acc: 0.7262\n",
      "Epoch 118/150\n",
      "2267/2267 [==============================] - 0s 176us/step - loss: 0.6021 - acc: 0.6987 - val_loss: 0.6078 - val_acc: 0.7328\n",
      "Epoch 119/150\n",
      "2267/2267 [==============================] - 0s 175us/step - loss: 0.6032 - acc: 0.6987 - val_loss: 0.5963 - val_acc: 0.7249\n",
      "Epoch 120/150\n",
      "2267/2267 [==============================] - 0s 171us/step - loss: 0.6065 - acc: 0.6939 - val_loss: 0.5769 - val_acc: 0.7394\n",
      "Epoch 121/150\n",
      "2267/2267 [==============================] - 0s 172us/step - loss: 0.6058 - acc: 0.6952 - val_loss: 0.5942 - val_acc: 0.7341\n",
      "Epoch 122/150\n",
      "2267/2267 [==============================] - 0s 174us/step - loss: 0.6043 - acc: 0.6956 - val_loss: 0.6029 - val_acc: 0.7368\n",
      "Epoch 123/150\n",
      "2267/2267 [==============================] - 0s 179us/step - loss: 0.6015 - acc: 0.6965 - val_loss: 0.6039 - val_acc: 0.7341\n",
      "Epoch 124/150\n",
      "2267/2267 [==============================] - 0s 174us/step - loss: 0.6041 - acc: 0.6943 - val_loss: 0.5906 - val_acc: 0.7368\n",
      "Epoch 125/150\n",
      "2267/2267 [==============================] - 0s 182us/step - loss: 0.6026 - acc: 0.6956 - val_loss: 0.5966 - val_acc: 0.7354\n",
      "Epoch 126/150\n",
      "2267/2267 [==============================] - 0s 183us/step - loss: 0.6011 - acc: 0.6965 - val_loss: 0.5895 - val_acc: 0.7381\n",
      "Epoch 127/150\n",
      "2267/2267 [==============================] - 0s 187us/step - loss: 0.6004 - acc: 0.7000 - val_loss: 0.5857 - val_acc: 0.7381\n",
      "Epoch 128/150\n",
      "2267/2267 [==============================] - 0s 184us/step - loss: 0.6024 - acc: 0.6970 - val_loss: 0.6059 - val_acc: 0.7328\n",
      "Epoch 129/150\n",
      "2267/2267 [==============================] - 0s 173us/step - loss: 0.6016 - acc: 0.6992 - val_loss: 0.6005 - val_acc: 0.7262\n",
      "Epoch 130/150\n",
      "2267/2267 [==============================] - 0s 185us/step - loss: 0.6042 - acc: 0.6965 - val_loss: 0.5985 - val_acc: 0.7222\n",
      "Epoch 131/150\n",
      "2267/2267 [==============================] - 0s 173us/step - loss: 0.6023 - acc: 0.6992 - val_loss: 0.5957 - val_acc: 0.7341\n",
      "Epoch 132/150\n",
      "2267/2267 [==============================] - 0s 174us/step - loss: 0.6019 - acc: 0.6992 - val_loss: 0.6010 - val_acc: 0.7222\n",
      "Epoch 133/150\n",
      "2267/2267 [==============================] - 0s 175us/step - loss: 0.6021 - acc: 0.6952 - val_loss: 0.5939 - val_acc: 0.7341\n",
      "Epoch 134/150\n",
      "2267/2267 [==============================] - 0s 174us/step - loss: 0.6013 - acc: 0.6987 - val_loss: 0.6005 - val_acc: 0.7235\n",
      "Epoch 135/150\n",
      "2267/2267 [==============================] - 0s 174us/step - loss: 0.6058 - acc: 0.6970 - val_loss: 0.5980 - val_acc: 0.7354\n",
      "Epoch 136/150\n",
      "2267/2267 [==============================] - 0s 177us/step - loss: 0.6017 - acc: 0.6983 - val_loss: 0.5801 - val_acc: 0.7381\n",
      "Epoch 137/150\n",
      "2267/2267 [==============================] - 0s 174us/step - loss: 0.6024 - acc: 0.6930 - val_loss: 0.5937 - val_acc: 0.7341\n",
      "Epoch 138/150\n",
      "2267/2267 [==============================] - 0s 176us/step - loss: 0.6011 - acc: 0.6970 - val_loss: 0.5934 - val_acc: 0.7354\n",
      "Epoch 139/150\n",
      "2267/2267 [==============================] - 0s 175us/step - loss: 0.5994 - acc: 0.6961 - val_loss: 0.5977 - val_acc: 0.7341\n",
      "Epoch 140/150\n",
      "2267/2267 [==============================] - 0s 179us/step - loss: 0.5982 - acc: 0.6978 - val_loss: 0.6015 - val_acc: 0.7262\n",
      "Epoch 141/150\n",
      "2267/2267 [==============================] - 0s 179us/step - loss: 0.6006 - acc: 0.6930 - val_loss: 0.5956 - val_acc: 0.7288\n",
      "Epoch 142/150\n",
      "2267/2267 [==============================] - 0s 197us/step - loss: 0.6012 - acc: 0.6952 - val_loss: 0.6004 - val_acc: 0.7341\n",
      "Epoch 143/150\n",
      "2267/2267 [==============================] - 0s 190us/step - loss: 0.5987 - acc: 0.6965 - val_loss: 0.6128 - val_acc: 0.7235\n",
      "Epoch 144/150\n",
      "2267/2267 [==============================] - 0s 171us/step - loss: 0.6034 - acc: 0.6934 - val_loss: 0.5871 - val_acc: 0.7315\n",
      "Epoch 145/150\n",
      "2267/2267 [==============================] - 0s 174us/step - loss: 0.6017 - acc: 0.6970 - val_loss: 0.5897 - val_acc: 0.7315\n",
      "Epoch 146/150\n",
      "2267/2267 [==============================] - 0s 174us/step - loss: 0.5973 - acc: 0.6956 - val_loss: 0.6024 - val_acc: 0.7288\n",
      "Epoch 147/150\n",
      "2267/2267 [==============================] - 0s 173us/step - loss: 0.6007 - acc: 0.6974 - val_loss: 0.5932 - val_acc: 0.7302\n",
      "Epoch 148/150\n",
      "2267/2267 [==============================] - 0s 172us/step - loss: 0.6020 - acc: 0.6943 - val_loss: 0.5857 - val_acc: 0.7328\n",
      "Epoch 149/150\n",
      "2267/2267 [==============================] - 0s 174us/step - loss: 0.5993 - acc: 0.6961 - val_loss: 0.5820 - val_acc: 0.7354\n",
      "Epoch 150/150\n",
      "2267/2267 [==============================] - 0s 180us/step - loss: 0.5991 - acc: 0.6965 - val_loss: 0.5886 - val_acc: 0.7354\n"
     ]
    }
   ],
   "source": [
    "#X_train is 0.8 of total data set so cross validation needs to be 0.25 of X_train to be 0.2 of total dataset\n",
    "history = model.fit(X_train, y_train, validation_split=0.25, epochs=150, batch_size=16, verbose = 1)"
   ]
  },
  {
   "cell_type": "markdown",
   "metadata": {},
   "source": [
    "### Plot results"
   ]
  },
  {
   "cell_type": "code",
   "execution_count": 6,
   "metadata": {},
   "outputs": [
    {
     "data": {
      "image/png": "[encoded data removed]",
      "text/plain": [
       "<Figure size 432x288 with 1 Axes>"
      ]
     },
     "metadata": {
      "needs_background": "light"
     },
     "output_type": "display_data"
    }
   ],
   "source": [
    "plt.plot(history.history['acc'])\n",
    "plt.plot(history.history['val_acc'])\n",
    "plt.title('model accuracy')\n",
    "plt.ylabel('accuracy')\n",
    "plt.xlabel('epoch')\n",
    "plt.legend(['train', 'test'], loc='upper left')\n",
    "plt.show()"
   ]
  },
  {
   "cell_type": "markdown",
   "metadata": {},
   "source": [
    "### Accuracy on test set"
   ]
  },
  {
   "cell_type": "code",
   "execution_count": 7,
   "metadata": {},
   "outputs": [
    {
     "name": "stdout",
     "output_type": "stream",
     "text": [
      "686/686 [==============================] - 0s 18us/step\n",
      "loss on test set = 0.6151251170795096\n",
      "accuracy on test set = 0.7026239068793139\n"
     ]
    }
   ],
   "source": [
    "loss, accuracy = model.evaluate(x=X_test, y=y_test,batch_size=64, verbose=1)\n",
    "print('loss on test set = ' + str(loss))\n",
    "print('accuracy on test set = ' + str(accuracy))"
   ]
  },
  {
   "cell_type": "code",
   "execution_count": 8,
   "metadata": {},
   "outputs": [
    {
     "name": "stdout",
     "output_type": "stream",
     "text": [
      "_________________________________________________________________\n",
      "Layer (type)                 Output Shape              Param #   \n",
      "=================================================================\n",
      "dense_1 (Dense)              (None, 512)               9216      \n",
      "_________________________________________________________________\n",
      "dropout_1 (Dropout)          (None, 512)               0         \n",
      "_________________________________________________________________\n",
      "dense_2 (Dense)              (None, 1)                 513       \n",
      "=================================================================\n",
      "Total params: 9,729\n",
      "Trainable params: 9,729\n",
      "Non-trainable params: 0\n",
      "_________________________________________________________________\n"
     ]
    }
   ],
   "source": [
    "model.summary()"
   ]
  },
  {
   "cell_type": "code",
   "execution_count": 9,
   "metadata": {},
   "outputs": [],
   "source": [
    "results = model.predict(X_test, batch_size=64, verbose=0, steps=None)"
   ]
  },
  {
   "cell_type": "code",
   "execution_count": 10,
   "metadata": {},
   "outputs": [],
   "source": [
    "\n",
    "\n",
    "results = pd.DataFrame(results, columns=['results']).to_csv('databases/Database_2_results.csv')"
   ]
  },
  {
   "cell_type": "code",
   "execution_count": null,
   "metadata": {},
   "outputs": [],
   "source": []
  }
 ],
 "metadata": {
  "kernelspec": {
   "display_name": "TensorFlow-GPU",
   "language": "python",
   "name": "tf-gpu"
  },
  "language_info": {
   "codemirror_mode": {
    "name": "ipython",
    "version": 3
   },
   "file_extension": ".py",
   "mimetype": "text/x-python",
   "name": "python",
   "nbconvert_exporter": "python",
   "pygments_lexer": "ipython3",
   "version": "3.6.8"
  }
 },
 "nbformat": 4,
 "nbformat_minor": 2
}
