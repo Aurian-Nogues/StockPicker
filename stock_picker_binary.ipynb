{
 "cells": [
  {
   "cell_type": "code",
   "execution_count": 12,
   "metadata": {},
   "outputs": [],
   "source": [
    "from ipynb.fs.full.functions import import_data\n",
    "from keras.models import Sequential\n",
    "from keras.layers import Dense, Activation, Dropout\n",
    "from keras import optimizers, regularizers\n",
    "import numpy as np\n",
    "import keras.utils\n",
    "import matplotlib.pyplot as plt\n",
    "import pandas as pd\n",
    "from sklearn.preprocessing import StandardScaler\n"
   ]
  },
  {
   "cell_type": "markdown",
   "metadata": {},
   "source": [
    "### Import data"
   ]
  },
  {
   "cell_type": "code",
   "execution_count": 21,
   "metadata": {},
   "outputs": [],
   "source": [
    "#import training set\n",
    "X_train, y_train = import_data('databases/Database_2_training.csv')\n",
    "X_test, y_test = import_data('databases/Database_2_test.csv')\n",
    "input_size = X_train.shape[1]\n"
   ]
  },
  {
   "cell_type": "markdown",
   "metadata": {},
   "source": [
    "## Scale data"
   ]
  },
  {
   "cell_type": "code",
   "execution_count": 20,
   "metadata": {},
   "outputs": [
    {
     "name": "stdout",
     "output_type": "stream",
     "text": [
      "[[ nan 0.03 0.14 ...  nan  nan 0.15]\n",
      " [0.05 0.05 0.18 ...  nan  nan 0.05]\n",
      " [0.04 0.04 0.2  ...  nan  nan 0.5 ]\n",
      " ...\n",
      " [ nan  nan 0.15 ...  nan  nan  nan]\n",
      " [ nan  nan 0.18 ...  nan  nan 0.64]\n",
      " [ nan 0.19  nan ...  nan  nan 1.2 ]]\n"
     ]
    },
    {
     "ename": "ValueError",
     "evalue": "Input contains NaN, infinity or a value too large for dtype('float64').",
     "output_type": "error",
     "traceback": [
      "\u001b[1;31m---------------------------------------------------------------------------\u001b[0m",
      "\u001b[1;31mValueError\u001b[0m                                Traceback (most recent call last)",
      "\u001b[1;32m<ipython-input-20-ea99bd984416>\u001b[0m in \u001b[0;36m<module>\u001b[1;34m\u001b[0m\n\u001b[0;32m      2\u001b[0m \u001b[0mscaler\u001b[0m\u001b[1;33m=\u001b[0m\u001b[0mStandardScaler\u001b[0m\u001b[1;33m(\u001b[0m\u001b[1;33m)\u001b[0m\u001b[1;33m\u001b[0m\u001b[1;33m\u001b[0m\u001b[0m\n\u001b[0;32m      3\u001b[0m \u001b[0mprint\u001b[0m\u001b[1;33m(\u001b[0m\u001b[0mX_train\u001b[0m\u001b[1;33m)\u001b[0m\u001b[1;33m\u001b[0m\u001b[1;33m\u001b[0m\u001b[0m\n\u001b[1;32m----> 4\u001b[1;33m \u001b[0mscaling_params\u001b[0m \u001b[1;33m=\u001b[0m \u001b[0mscaler\u001b[0m\u001b[1;33m.\u001b[0m\u001b[0mfit\u001b[0m\u001b[1;33m(\u001b[0m\u001b[0mX_train\u001b[0m\u001b[1;33m)\u001b[0m\u001b[1;33m\u001b[0m\u001b[1;33m\u001b[0m\u001b[0m\n\u001b[0m\u001b[0;32m      5\u001b[0m \u001b[1;33m\u001b[0m\u001b[0m\n\u001b[0;32m      6\u001b[0m \u001b[1;33m\u001b[0m\u001b[0m\n",
      "\u001b[1;32m~\\Anaconda3\\envs\\keras_environment\\lib\\site-packages\\sklearn\\preprocessing\\data.py\u001b[0m in \u001b[0;36mfit\u001b[1;34m(self, X, y)\u001b[0m\n\u001b[0;32m    588\u001b[0m         \u001b[1;31m# Reset internal state before fitting\u001b[0m\u001b[1;33m\u001b[0m\u001b[1;33m\u001b[0m\u001b[1;33m\u001b[0m\u001b[0m\n\u001b[0;32m    589\u001b[0m         \u001b[0mself\u001b[0m\u001b[1;33m.\u001b[0m\u001b[0m_reset\u001b[0m\u001b[1;33m(\u001b[0m\u001b[1;33m)\u001b[0m\u001b[1;33m\u001b[0m\u001b[1;33m\u001b[0m\u001b[0m\n\u001b[1;32m--> 590\u001b[1;33m         \u001b[1;32mreturn\u001b[0m \u001b[0mself\u001b[0m\u001b[1;33m.\u001b[0m\u001b[0mpartial_fit\u001b[0m\u001b[1;33m(\u001b[0m\u001b[0mX\u001b[0m\u001b[1;33m,\u001b[0m \u001b[0my\u001b[0m\u001b[1;33m)\u001b[0m\u001b[1;33m\u001b[0m\u001b[1;33m\u001b[0m\u001b[0m\n\u001b[0m\u001b[0;32m    591\u001b[0m \u001b[1;33m\u001b[0m\u001b[0m\n\u001b[0;32m    592\u001b[0m     \u001b[1;32mdef\u001b[0m \u001b[0mpartial_fit\u001b[0m\u001b[1;33m(\u001b[0m\u001b[0mself\u001b[0m\u001b[1;33m,\u001b[0m \u001b[0mX\u001b[0m\u001b[1;33m,\u001b[0m \u001b[0my\u001b[0m\u001b[1;33m=\u001b[0m\u001b[1;32mNone\u001b[0m\u001b[1;33m)\u001b[0m\u001b[1;33m:\u001b[0m\u001b[1;33m\u001b[0m\u001b[1;33m\u001b[0m\u001b[0m\n",
      "\u001b[1;32m~\\Anaconda3\\envs\\keras_environment\\lib\\site-packages\\sklearn\\preprocessing\\data.py\u001b[0m in \u001b[0;36mpartial_fit\u001b[1;34m(self, X, y)\u001b[0m\n\u001b[0;32m    610\u001b[0m         \"\"\"\n\u001b[0;32m    611\u001b[0m         X = check_array(X, accept_sparse=('csr', 'csc'), copy=self.copy,\n\u001b[1;32m--> 612\u001b[1;33m                         warn_on_dtype=True, estimator=self, dtype=FLOAT_DTYPES)\n\u001b[0m\u001b[0;32m    613\u001b[0m \u001b[1;33m\u001b[0m\u001b[0m\n\u001b[0;32m    614\u001b[0m         \u001b[1;31m# Even in the case of `with_mean=False`, we update the mean anyway\u001b[0m\u001b[1;33m\u001b[0m\u001b[1;33m\u001b[0m\u001b[1;33m\u001b[0m\u001b[0m\n",
      "\u001b[1;32m~\\Anaconda3\\envs\\keras_environment\\lib\\site-packages\\sklearn\\utils\\validation.py\u001b[0m in \u001b[0;36mcheck_array\u001b[1;34m(array, accept_sparse, dtype, order, copy, force_all_finite, ensure_2d, allow_nd, ensure_min_samples, ensure_min_features, warn_on_dtype, estimator)\u001b[0m\n\u001b[0;32m    420\u001b[0m                              % (array.ndim, estimator_name))\n\u001b[0;32m    421\u001b[0m         \u001b[1;32mif\u001b[0m \u001b[0mforce_all_finite\u001b[0m\u001b[1;33m:\u001b[0m\u001b[1;33m\u001b[0m\u001b[1;33m\u001b[0m\u001b[0m\n\u001b[1;32m--> 422\u001b[1;33m             \u001b[0m_assert_all_finite\u001b[0m\u001b[1;33m(\u001b[0m\u001b[0marray\u001b[0m\u001b[1;33m)\u001b[0m\u001b[1;33m\u001b[0m\u001b[1;33m\u001b[0m\u001b[0m\n\u001b[0m\u001b[0;32m    423\u001b[0m \u001b[1;33m\u001b[0m\u001b[0m\n\u001b[0;32m    424\u001b[0m     \u001b[0mshape_repr\u001b[0m \u001b[1;33m=\u001b[0m \u001b[0m_shape_repr\u001b[0m\u001b[1;33m(\u001b[0m\u001b[0marray\u001b[0m\u001b[1;33m.\u001b[0m\u001b[0mshape\u001b[0m\u001b[1;33m)\u001b[0m\u001b[1;33m\u001b[0m\u001b[1;33m\u001b[0m\u001b[0m\n",
      "\u001b[1;32m~\\Anaconda3\\envs\\keras_environment\\lib\\site-packages\\sklearn\\utils\\validation.py\u001b[0m in \u001b[0;36m_assert_all_finite\u001b[1;34m(X)\u001b[0m\n\u001b[0;32m     41\u001b[0m             and not np.isfinite(X).all()):\n\u001b[0;32m     42\u001b[0m         raise ValueError(\"Input contains NaN, infinity\"\n\u001b[1;32m---> 43\u001b[1;33m                          \" or a value too large for %r.\" % X.dtype)\n\u001b[0m\u001b[0;32m     44\u001b[0m \u001b[1;33m\u001b[0m\u001b[0m\n\u001b[0;32m     45\u001b[0m \u001b[1;33m\u001b[0m\u001b[0m\n",
      "\u001b[1;31mValueError\u001b[0m: Input contains NaN, infinity or a value too large for dtype('float64')."
     ]
    }
   ],
   "source": [
    "#StandardScaler scales the data to 0 mean and 1 standard deviation\n",
    "scaler=StandardScaler()\n",
    "print(X_train)\n",
    "scaling_params = scaler.fit(X_train)\n",
    "\n",
    "\n"
   ]
  },
  {
   "cell_type": "markdown",
   "metadata": {},
   "source": [
    "### Build model \n",
    "\n"
   ]
  },
  {
   "cell_type": "code",
   "execution_count": 37,
   "metadata": {},
   "outputs": [],
   "source": [
    "model = Sequential()\n",
    "\n",
    "model.add(Dense(512, activation='relu', input_dim=input_size,kernel_regularizer=regularizers.l2(0.00)))\n",
    "model.add(Dropout(0.2))\n",
    "#model.add(Dense(256, activation='relu',kernel_regularizer=regularizers.l2(0.01)))\n",
    "#model.add(Dropout(0.2))\n",
    "model.add(Dense(1, activation='sigmoid'))"
   ]
  },
  {
   "cell_type": "markdown",
   "metadata": {},
   "source": [
    "### Compile model"
   ]
  },
  {
   "cell_type": "code",
   "execution_count": 38,
   "metadata": {},
   "outputs": [],
   "source": [
    "optimizer = optimizers.Adam(lr=0.001, beta_1 = 0.9, beta_2=0.999)\n",
    "model.compile(optimizer=optimizer,\n",
    "              loss='binary_crossentropy',\n",
    "              metrics=['accuracy'])"
   ]
  },
  {
   "cell_type": "markdown",
   "metadata": {},
   "source": [
    "### Train model"
   ]
  },
  {
   "cell_type": "code",
   "execution_count": 44,
   "metadata": {},
   "outputs": [
    {
     "name": "stdout",
     "output_type": "stream",
     "text": [
      "Train on 549 samples, validate on 183 samples\n",
      "Epoch 1/100\n",
      "549/549 [==============================] - 0s 222us/step - loss: 0.5392 - acc: 0.8415 - val_loss: 0.3175 - val_acc: 0.8525\n",
      "Epoch 2/100\n",
      "549/549 [==============================] - 0s 179us/step - loss: 0.4554 - acc: 0.8707 - val_loss: 0.3046 - val_acc: 0.8962\n",
      "Epoch 3/100\n",
      "549/549 [==============================] - 0s 182us/step - loss: 0.4564 - acc: 0.8689 - val_loss: 0.3214 - val_acc: 0.8306\n",
      "Epoch 4/100\n",
      "549/549 [==============================] - 0s 180us/step - loss: 0.4778 - acc: 0.8616 - val_loss: 0.2963 - val_acc: 0.9071\n",
      "Epoch 5/100\n",
      "549/549 [==============================] - 0s 182us/step - loss: 0.4576 - acc: 0.8780 - val_loss: 0.2925 - val_acc: 0.8579\n",
      "Epoch 6/100\n",
      "549/549 [==============================] - 0s 175us/step - loss: 0.4576 - acc: 0.8689 - val_loss: 0.2934 - val_acc: 0.8634\n",
      "Epoch 7/100\n",
      "549/549 [==============================] - 0s 184us/step - loss: 0.4409 - acc: 0.8852 - val_loss: 0.2797 - val_acc: 0.8798\n",
      "Epoch 8/100\n",
      "549/549 [==============================] - 0s 186us/step - loss: 0.4581 - acc: 0.8616 - val_loss: 0.2770 - val_acc: 0.9016\n",
      "Epoch 9/100\n",
      "549/549 [==============================] - 0s 180us/step - loss: 0.4477 - acc: 0.8889 - val_loss: 0.2705 - val_acc: 0.8962\n",
      "Epoch 10/100\n",
      "549/549 [==============================] - 0s 180us/step - loss: 0.4894 - acc: 0.8780 - val_loss: 0.2533 - val_acc: 0.9235\n",
      "Epoch 11/100\n",
      "549/549 [==============================] - 0s 180us/step - loss: 0.4571 - acc: 0.8907 - val_loss: 0.2587 - val_acc: 0.9126\n",
      "Epoch 12/100\n",
      "549/549 [==============================] - 0s 188us/step - loss: 0.4915 - acc: 0.8798 - val_loss: 0.2743 - val_acc: 0.9235\n",
      "Epoch 13/100\n",
      "549/549 [==============================] - 0s 177us/step - loss: 0.5049 - acc: 0.8525 - val_loss: 0.2529 - val_acc: 0.9290\n",
      "Epoch 14/100\n",
      "549/549 [==============================] - 0s 180us/step - loss: 0.4036 - acc: 0.8998 - val_loss: 0.2518 - val_acc: 0.9126\n",
      "Epoch 15/100\n",
      "549/549 [==============================] - 0s 184us/step - loss: 0.4172 - acc: 0.8889 - val_loss: 0.2879 - val_acc: 0.9180\n",
      "Epoch 16/100\n",
      "549/549 [==============================] - 0s 186us/step - loss: 0.5406 - acc: 0.8488 - val_loss: 0.2323 - val_acc: 0.9344\n",
      "Epoch 17/100\n",
      "549/549 [==============================] - 0s 190us/step - loss: 0.4629 - acc: 0.8707 - val_loss: 0.2368 - val_acc: 0.9180\n",
      "Epoch 18/100\n",
      "549/549 [==============================] - 0s 237us/step - loss: 0.4255 - acc: 0.8816 - val_loss: 0.2374 - val_acc: 0.9399\n",
      "Epoch 19/100\n",
      "549/549 [==============================] - 0s 202us/step - loss: 0.4387 - acc: 0.9035 - val_loss: 0.2209 - val_acc: 0.9290\n",
      "Epoch 20/100\n",
      "549/549 [==============================] - 0s 188us/step - loss: 0.4232 - acc: 0.8980 - val_loss: 0.2317 - val_acc: 0.9071\n",
      "Epoch 21/100\n",
      "549/549 [==============================] - 0s 204us/step - loss: 0.4351 - acc: 0.8944 - val_loss: 0.2155 - val_acc: 0.9344\n",
      "Epoch 22/100\n",
      "549/549 [==============================] - 0s 206us/step - loss: 0.3953 - acc: 0.8980 - val_loss: 0.2159 - val_acc: 0.9617\n",
      "Epoch 23/100\n",
      "549/549 [==============================] - 0s 179us/step - loss: 0.4091 - acc: 0.8980 - val_loss: 0.2106 - val_acc: 0.9344\n",
      "Epoch 24/100\n",
      "549/549 [==============================] - 0s 177us/step - loss: 0.4104 - acc: 0.8962 - val_loss: 0.2067 - val_acc: 0.9508\n",
      "Epoch 25/100\n",
      "549/549 [==============================] - 0s 184us/step - loss: 0.4103 - acc: 0.8925 - val_loss: 0.1981 - val_acc: 0.9399\n",
      "Epoch 26/100\n",
      "549/549 [==============================] - 0s 182us/step - loss: 0.3796 - acc: 0.9162 - val_loss: 0.1953 - val_acc: 0.9454\n",
      "Epoch 27/100\n",
      "549/549 [==============================] - 0s 184us/step - loss: 0.4214 - acc: 0.8689 - val_loss: 0.2588 - val_acc: 0.9180\n",
      "Epoch 28/100\n",
      "549/549 [==============================] - 0s 184us/step - loss: 0.4272 - acc: 0.8889 - val_loss: 0.1882 - val_acc: 0.9508\n",
      "Epoch 29/100\n",
      "549/549 [==============================] - 0s 186us/step - loss: 0.3959 - acc: 0.9071 - val_loss: 0.2060 - val_acc: 0.9617\n",
      "Epoch 30/100\n",
      "549/549 [==============================] - 0s 180us/step - loss: 0.4217 - acc: 0.8816 - val_loss: 0.2719 - val_acc: 0.9016\n",
      "Epoch 31/100\n",
      "549/549 [==============================] - 0s 182us/step - loss: 0.3920 - acc: 0.8925 - val_loss: 0.1959 - val_acc: 0.9454\n",
      "Epoch 32/100\n",
      "549/549 [==============================] - 0s 179us/step - loss: 0.3965 - acc: 0.8962 - val_loss: 0.2021 - val_acc: 0.9180\n",
      "Epoch 33/100\n",
      "549/549 [==============================] - 0s 182us/step - loss: 0.4378 - acc: 0.8798 - val_loss: 0.1904 - val_acc: 0.9180\n",
      "Epoch 34/100\n",
      "549/549 [==============================] - 0s 184us/step - loss: 0.4172 - acc: 0.9107 - val_loss: 0.2053 - val_acc: 0.9126\n",
      "Epoch 35/100\n",
      "549/549 [==============================] - 0s 182us/step - loss: 0.4096 - acc: 0.9107 - val_loss: 0.1841 - val_acc: 0.9290\n",
      "Epoch 36/100\n",
      "549/549 [==============================] - 0s 186us/step - loss: 0.3679 - acc: 0.9089 - val_loss: 0.1863 - val_acc: 0.9290\n",
      "Epoch 37/100\n",
      "549/549 [==============================] - 0s 180us/step - loss: 0.3648 - acc: 0.9126 - val_loss: 0.1688 - val_acc: 0.9781\n",
      "Epoch 38/100\n",
      "549/549 [==============================] - 0s 180us/step - loss: 0.4251 - acc: 0.8707 - val_loss: 0.2582 - val_acc: 0.9016\n",
      "Epoch 39/100\n",
      "549/549 [==============================] - 0s 182us/step - loss: 0.4471 - acc: 0.8652 - val_loss: 0.1862 - val_acc: 0.9235\n",
      "Epoch 40/100\n",
      "549/549 [==============================] - 0s 180us/step - loss: 0.4222 - acc: 0.8725 - val_loss: 0.1959 - val_acc: 0.9235\n",
      "Epoch 41/100\n",
      "549/549 [==============================] - 0s 182us/step - loss: 0.3810 - acc: 0.8907 - val_loss: 0.1896 - val_acc: 0.9235\n",
      "Epoch 42/100\n",
      "549/549 [==============================] - 0s 184us/step - loss: 0.3852 - acc: 0.8707 - val_loss: 0.1598 - val_acc: 0.9727\n",
      "Epoch 43/100\n",
      "549/549 [==============================] - 0s 182us/step - loss: 0.3496 - acc: 0.9253 - val_loss: 0.1595 - val_acc: 0.9454\n",
      "Epoch 44/100\n",
      "549/549 [==============================] - 0s 179us/step - loss: 0.4331 - acc: 0.8798 - val_loss: 0.1512 - val_acc: 0.9563\n",
      "Epoch 45/100\n",
      "549/549 [==============================] - 0s 202us/step - loss: 0.3956 - acc: 0.9144 - val_loss: 0.1921 - val_acc: 0.9508\n",
      "Epoch 46/100\n",
      "549/549 [==============================] - 0s 217us/step - loss: 0.3870 - acc: 0.9053 - val_loss: 0.1536 - val_acc: 0.9727\n",
      "Epoch 47/100\n",
      "549/549 [==============================] - 0s 186us/step - loss: 0.3678 - acc: 0.9362 - val_loss: 0.1427 - val_acc: 0.9617\n",
      "Epoch 48/100\n",
      "549/549 [==============================] - 0s 219us/step - loss: 0.3570 - acc: 0.9290 - val_loss: 0.1443 - val_acc: 0.9508\n",
      "Epoch 49/100\n",
      "549/549 [==============================] - 0s 191us/step - loss: 0.3398 - acc: 0.9308 - val_loss: 0.1498 - val_acc: 0.9727\n",
      "Epoch 50/100\n",
      "549/549 [==============================] - 0s 186us/step - loss: 0.4000 - acc: 0.9071 - val_loss: 0.1399 - val_acc: 0.9508\n",
      "Epoch 51/100\n",
      "549/549 [==============================] - 0s 186us/step - loss: 0.3418 - acc: 0.9417 - val_loss: 0.1485 - val_acc: 0.9727\n",
      "Epoch 52/100\n",
      "549/549 [==============================] - 0s 191us/step - loss: 0.4067 - acc: 0.8852 - val_loss: 0.1351 - val_acc: 0.9727\n",
      "Epoch 53/100\n",
      "549/549 [==============================] - 0s 237us/step - loss: 0.3350 - acc: 0.9326 - val_loss: 0.1426 - val_acc: 0.9399\n",
      "Epoch 54/100\n",
      "549/549 [==============================] - 0s 217us/step - loss: 0.3612 - acc: 0.9035 - val_loss: 0.1338 - val_acc: 0.9672\n",
      "Epoch 55/100\n",
      "549/549 [==============================] - 0s 195us/step - loss: 0.3575 - acc: 0.9162 - val_loss: 0.1516 - val_acc: 0.9727\n",
      "Epoch 56/100\n",
      "549/549 [==============================] - 0s 191us/step - loss: 0.3565 - acc: 0.9235 - val_loss: 0.1334 - val_acc: 0.9781\n",
      "Epoch 57/100\n",
      "549/549 [==============================] - 0s 180us/step - loss: 0.3312 - acc: 0.9381 - val_loss: 0.1305 - val_acc: 0.9563\n",
      "Epoch 58/100\n",
      "549/549 [==============================] - 0s 180us/step - loss: 0.3132 - acc: 0.9435 - val_loss: 0.1234 - val_acc: 0.9617\n",
      "Epoch 59/100\n",
      "549/549 [==============================] - 0s 195us/step - loss: 0.3315 - acc: 0.9399 - val_loss: 0.1416 - val_acc: 0.9399\n",
      "Epoch 60/100\n",
      "549/549 [==============================] - 0s 191us/step - loss: 0.3685 - acc: 0.9271 - val_loss: 0.1407 - val_acc: 0.9672\n"
     ]
    },
    {
     "name": "stdout",
     "output_type": "stream",
     "text": [
      "Epoch 61/100\n",
      "549/549 [==============================] - 0s 188us/step - loss: 0.3673 - acc: 0.9162 - val_loss: 0.1364 - val_acc: 0.9563\n",
      "Epoch 62/100\n",
      "549/549 [==============================] - 0s 193us/step - loss: 0.3280 - acc: 0.9344 - val_loss: 0.1285 - val_acc: 0.9617\n",
      "Epoch 63/100\n",
      "549/549 [==============================] - 0s 188us/step - loss: 0.3120 - acc: 0.9508 - val_loss: 0.1231 - val_acc: 0.9781\n",
      "Epoch 64/100\n",
      "549/549 [==============================] - 0s 188us/step - loss: 0.3379 - acc: 0.9344 - val_loss: 0.1196 - val_acc: 0.9781\n",
      "Epoch 65/100\n",
      "549/549 [==============================] - 0s 190us/step - loss: 0.3729 - acc: 0.9217 - val_loss: 0.1285 - val_acc: 0.9727\n",
      "Epoch 66/100\n",
      "549/549 [==============================] - 0s 179us/step - loss: 0.3393 - acc: 0.9399 - val_loss: 0.1265 - val_acc: 0.9563\n",
      "Epoch 67/100\n",
      "549/549 [==============================] - 0s 186us/step - loss: 0.3493 - acc: 0.9290 - val_loss: 0.1121 - val_acc: 0.9781\n",
      "Epoch 68/100\n",
      "549/549 [==============================] - 0s 184us/step - loss: 0.3465 - acc: 0.9290 - val_loss: 0.1098 - val_acc: 0.9727\n",
      "Epoch 69/100\n",
      "549/549 [==============================] - 0s 175us/step - loss: 0.3716 - acc: 0.9199 - val_loss: 0.1209 - val_acc: 0.9617\n",
      "Epoch 70/100\n",
      "549/549 [==============================] - 0s 186us/step - loss: 0.3548 - acc: 0.9344 - val_loss: 0.1119 - val_acc: 0.9781\n",
      "Epoch 71/100\n",
      "549/549 [==============================] - 0s 179us/step - loss: 0.3664 - acc: 0.9253 - val_loss: 0.1196 - val_acc: 0.9508\n",
      "Epoch 72/100\n",
      "549/549 [==============================] - 0s 180us/step - loss: 0.3261 - acc: 0.9290 - val_loss: 0.1077 - val_acc: 0.9727\n",
      "Epoch 73/100\n",
      "549/549 [==============================] - 0s 179us/step - loss: 0.3392 - acc: 0.9326 - val_loss: 0.1314 - val_acc: 0.9454\n",
      "Epoch 74/100\n",
      "549/549 [==============================] - 0s 186us/step - loss: 0.3264 - acc: 0.9144 - val_loss: 0.1019 - val_acc: 0.9836\n",
      "Epoch 75/100\n",
      "549/549 [==============================] - 0s 184us/step - loss: 0.3195 - acc: 0.9362 - val_loss: 0.1038 - val_acc: 0.9781\n",
      "Epoch 76/100\n",
      "549/549 [==============================] - 0s 197us/step - loss: 0.3014 - acc: 0.9399 - val_loss: 0.1214 - val_acc: 0.9672\n",
      "Epoch 77/100\n",
      "549/549 [==============================] - 0s 217us/step - loss: 0.3172 - acc: 0.9362 - val_loss: 0.1489 - val_acc: 0.9399\n",
      "Epoch 78/100\n",
      "549/549 [==============================] - 0s 188us/step - loss: 0.3281 - acc: 0.9235 - val_loss: 0.1507 - val_acc: 0.9563\n",
      "Epoch 79/100\n",
      "549/549 [==============================] - 0s 193us/step - loss: 0.3581 - acc: 0.9235 - val_loss: 0.1045 - val_acc: 0.9836\n",
      "Epoch 80/100\n",
      "549/549 [==============================] - 0s 213us/step - loss: 0.3366 - acc: 0.9344 - val_loss: 0.1060 - val_acc: 0.9727\n",
      "Epoch 81/100\n",
      "549/549 [==============================] - 0s 184us/step - loss: 0.3051 - acc: 0.9271 - val_loss: 0.1082 - val_acc: 0.9672\n",
      "Epoch 82/100\n",
      "549/549 [==============================] - 0s 195us/step - loss: 0.3020 - acc: 0.9545 - val_loss: 0.0946 - val_acc: 0.9781\n",
      "Epoch 83/100\n",
      "549/549 [==============================] - 0s 206us/step - loss: 0.3779 - acc: 0.9180 - val_loss: 0.1358 - val_acc: 0.9672\n",
      "Epoch 84/100\n",
      "549/549 [==============================] - 0s 208us/step - loss: 0.3624 - acc: 0.9217 - val_loss: 0.1004 - val_acc: 0.9781\n",
      "Epoch 85/100\n",
      "549/549 [==============================] - 0s 191us/step - loss: 0.3212 - acc: 0.9454 - val_loss: 0.0921 - val_acc: 0.9891\n",
      "Epoch 86/100\n",
      "549/549 [==============================] - 0s 186us/step - loss: 0.3130 - acc: 0.9654 - val_loss: 0.1025 - val_acc: 0.9727\n",
      "Epoch 87/100\n",
      "549/549 [==============================] - 0s 257us/step - loss: 0.3288 - acc: 0.9435 - val_loss: 0.0980 - val_acc: 0.9781\n",
      "Epoch 88/100\n",
      "549/549 [==============================] - 0s 228us/step - loss: 0.3471 - acc: 0.9089 - val_loss: 0.0984 - val_acc: 0.9781\n",
      "Epoch 89/100\n",
      "549/549 [==============================] - 0s 230us/step - loss: 0.3114 - acc: 0.9545 - val_loss: 0.1018 - val_acc: 0.9727\n",
      "Epoch 90/100\n",
      "549/549 [==============================] - 0s 270us/step - loss: 0.3190 - acc: 0.9326 - val_loss: 0.1007 - val_acc: 0.9672\n",
      "Epoch 91/100\n",
      "549/549 [==============================] - 0s 232us/step - loss: 0.3451 - acc: 0.9381 - val_loss: 0.1004 - val_acc: 0.9727\n",
      "Epoch 92/100\n",
      "549/549 [==============================] - 0s 244us/step - loss: 0.3008 - acc: 0.9381 - val_loss: 0.1130 - val_acc: 0.9563\n",
      "Epoch 93/100\n",
      "549/549 [==============================] - 0s 235us/step - loss: 0.3765 - acc: 0.9180 - val_loss: 0.0881 - val_acc: 0.9781\n",
      "Epoch 94/100\n",
      "549/549 [==============================] - 0s 235us/step - loss: 0.3120 - acc: 0.9435 - val_loss: 0.0949 - val_acc: 0.9836\n",
      "Epoch 95/100\n",
      "549/549 [==============================] - 0s 233us/step - loss: 0.2983 - acc: 0.9545 - val_loss: 0.0922 - val_acc: 0.9836\n",
      "Epoch 96/100\n",
      "549/549 [==============================] - 0s 204us/step - loss: 0.3198 - acc: 0.9399 - val_loss: 0.0946 - val_acc: 0.9781\n",
      "Epoch 97/100\n",
      "549/549 [==============================] - 0s 239us/step - loss: 0.3783 - acc: 0.9162 - val_loss: 0.0886 - val_acc: 0.9727\n",
      "Epoch 98/100\n",
      "549/549 [==============================] - 0s 233us/step - loss: 0.3340 - acc: 0.9344 - val_loss: 0.0937 - val_acc: 0.9727\n",
      "Epoch 99/100\n",
      "549/549 [==============================] - 0s 221us/step - loss: 0.3039 - acc: 0.9326 - val_loss: 0.0859 - val_acc: 0.9891\n",
      "Epoch 100/100\n",
      "549/549 [==============================] - 0s 208us/step - loss: 0.2881 - acc: 0.9472 - val_loss: 0.0890 - val_acc: 0.9727\n"
     ]
    }
   ],
   "source": [
    "#X_train is 0.8 of total data set so cross validation needs to be 0.25 of X_train to be 0.2 of total dataset\n",
    "history = model.fit(X_train, y_train, validation_split=0.25, epochs=100, batch_size=16, verbose = 1)"
   ]
  },
  {
   "cell_type": "markdown",
   "metadata": {},
   "source": [
    "### Plot results"
   ]
  },
  {
   "cell_type": "code",
   "execution_count": 45,
   "metadata": {},
   "outputs": [
    {
     "data": {
      "image/png": "[encoded data removed]",
      "text/plain": [
       "<Figure size 432x288 with 1 Axes>"
      ]
     },
     "metadata": {
      "needs_background": "light"
     },
     "output_type": "display_data"
    }
   ],
   "source": [
    "plt.plot(history.history['acc'])\n",
    "plt.plot(history.history['val_acc'])\n",
    "plt.title('model accuracy')\n",
    "plt.ylabel('accuracy')\n",
    "plt.xlabel('epoch')\n",
    "plt.legend(['train', 'test'], loc='upper left')\n",
    "plt.show()"
   ]
  },
  {
   "cell_type": "markdown",
   "metadata": {},
   "source": [
    "### Accuracy on test set"
   ]
  },
  {
   "cell_type": "code",
   "execution_count": 43,
   "metadata": {},
   "outputs": [
    {
     "name": "stdout",
     "output_type": "stream",
     "text": [
      "3023/3023 [==============================] - 0s 21us/step\n",
      "loss on test set = 0.44029994031431025\n",
      "accuracy on test set = 0.8792590142439975\n"
     ]
    }
   ],
   "source": [
    "loss, accuracy = model.evaluate(x=X_test, y=y_test,batch_size=64, verbose=1)\n",
    "print('loss on test set = ' + str(loss))\n",
    "print('accuracy on test set = ' + str(accuracy))"
   ]
  },
  {
   "cell_type": "code",
   "execution_count": null,
   "metadata": {},
   "outputs": [],
   "source": [
    "model.summary()"
   ]
  },
  {
   "cell_type": "code",
   "execution_count": 41,
   "metadata": {},
   "outputs": [],
   "source": [
    "results = model.predict(X_test, batch_size=64, verbose=0, steps=None)"
   ]
  },
  {
   "cell_type": "code",
   "execution_count": 42,
   "metadata": {},
   "outputs": [],
   "source": [
    "\n",
    "\n",
    "results = pd.DataFrame(results, columns=['results']).to_csv('databases/Database_2_results.csv')"
   ]
  },
  {
   "cell_type": "code",
   "execution_count": null,
   "metadata": {},
   "outputs": [],
   "source": []
  }
 ],
 "metadata": {
  "kernelspec": {
   "display_name": "TensorFlow-GPU",
   "language": "python",
   "name": "tf-gpu"
  },
  "language_info": {
   "codemirror_mode": {
    "name": "ipython",
    "version": 3
   },
   "file_extension": ".py",
   "mimetype": "text/x-python",
   "name": "python",
   "nbconvert_exporter": "python",
   "pygments_lexer": "ipython3",
   "version": "3.6.8"
  }
 },
 "nbformat": 4,
 "nbformat_minor": 2
}
