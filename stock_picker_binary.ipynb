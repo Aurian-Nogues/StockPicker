{
 "cells": [
  {
   "cell_type": "code",
   "execution_count": 2,
   "metadata": {},
   "outputs": [
    {
     "name": "stderr",
     "output_type": "stream",
     "text": [
      "Using TensorFlow backend.\n"
     ]
    }
   ],
   "source": [
    "from ipynb.fs.full.functions import import_data\n",
    "from keras.models import Sequential\n",
    "from keras.layers import Dense, Activation, Dropout\n",
    "from keras import optimizers, regularizers\n",
    "import numpy as np\n",
    "import keras.utils\n",
    "import matplotlib.pyplot as plt\n",
    "import pandas as pd\n"
   ]
  },
  {
   "cell_type": "markdown",
   "metadata": {},
   "source": [
    "### Import data"
   ]
  },
  {
   "cell_type": "code",
   "execution_count": 5,
   "metadata": {},
   "outputs": [],
   "source": [
    "#import training set\n",
    "X_train, y_train = import_data('databases/Database_2_training.csv')\n",
    "X_test, y_test = import_data('databases/Database_2_test.csv')\n",
    "input_size = X_train.shape[1]\n"
   ]
  },
  {
   "cell_type": "markdown",
   "metadata": {},
   "source": [
    "### Build model \n",
    "\n"
   ]
  },
  {
   "cell_type": "code",
   "execution_count": 3,
   "metadata": {},
   "outputs": [
    {
     "name": "stdout",
     "output_type": "stream",
     "text": [
      "WARNING:tensorflow:From C:\\Users\\auria\\Anaconda3\\envs\\keras_environment\\lib\\site-packages\\tensorflow\\python\\framework\\op_def_library.py:263: colocate_with (from tensorflow.python.framework.ops) is deprecated and will be removed in a future version.\n",
      "Instructions for updating:\n",
      "Colocations handled automatically by placer.\n",
      "WARNING:tensorflow:From C:\\Users\\auria\\Anaconda3\\envs\\keras_environment\\lib\\site-packages\\keras\\backend\\tensorflow_backend.py:3445: calling dropout (from tensorflow.python.ops.nn_ops) with keep_prob is deprecated and will be removed in a future version.\n",
      "Instructions for updating:\n",
      "Please use `rate` instead of `keep_prob`. Rate should be set to `rate = 1 - keep_prob`.\n"
     ]
    }
   ],
   "source": [
    "model = Sequential()\n",
    "\n",
    "model.add(Dense(512, activation='relu', input_dim=input_size,kernel_regularizer=regularizers.l2(0.00)))\n",
    "model.add(Dropout(0.2))\n",
    "#model.add(Dense(256, activation='relu',kernel_regularizer=regularizers.l2(0.01)))\n",
    "#model.add(Dropout(0.2))\n",
    "model.add(Dense(1, activation='sigmoid'))"
   ]
  },
  {
   "cell_type": "markdown",
   "metadata": {},
   "source": [
    "### Compile model"
   ]
  },
  {
   "cell_type": "code",
   "execution_count": 4,
   "metadata": {},
   "outputs": [],
   "source": [
    "optimizer = optimizers.Adam(lr=0.001, beta_1 = 0.9, beta_2=0.999)\n",
    "model.compile(optimizer=optimizer,\n",
    "              loss='binary_crossentropy',\n",
    "              metrics=['accuracy'])"
   ]
  },
  {
   "cell_type": "markdown",
   "metadata": {},
   "source": [
    "### Train model"
   ]
  },
  {
   "cell_type": "code",
   "execution_count": 5,
   "metadata": {},
   "outputs": [
    {
     "name": "stdout",
     "output_type": "stream",
     "text": [
      "WARNING:tensorflow:From C:\\Users\\auria\\Anaconda3\\envs\\keras_environment\\lib\\site-packages\\tensorflow\\python\\ops\\math_ops.py:3066: to_int32 (from tensorflow.python.ops.math_ops) is deprecated and will be removed in a future version.\n",
      "Instructions for updating:\n",
      "Use tf.cast instead.\n",
      "Train on 2267 samples, validate on 756 samples\n",
      "Epoch 1/150\n",
      "2267/2267 [==============================] - 2s 1ms/step - loss: 0.9395 - acc: 0.5712 - val_loss: 0.6942 - val_acc: 0.6574\n",
      "Epoch 2/150\n",
      "2267/2267 [==============================] - 0s 181us/step - loss: 0.8747 - acc: 0.5827 - val_loss: 0.7329 - val_acc: 0.6548\n",
      "Epoch 3/150\n",
      "2267/2267 [==============================] - 0s 172us/step - loss: 0.8544 - acc: 0.5739 - val_loss: 0.6552 - val_acc: 0.6693\n",
      "Epoch 4/150\n",
      "2267/2267 [==============================] - 0s 170us/step - loss: 0.8439 - acc: 0.5968 - val_loss: 0.6743 - val_acc: 0.6376\n",
      "Epoch 5/150\n",
      "2267/2267 [==============================] - 0s 171us/step - loss: 0.8143 - acc: 0.5836 - val_loss: 0.6517 - val_acc: 0.6680\n",
      "Epoch 6/150\n",
      "2267/2267 [==============================] - 0s 185us/step - loss: 0.7871 - acc: 0.5871 - val_loss: 0.7059 - val_acc: 0.6653\n",
      "Epoch 7/150\n",
      "2267/2267 [==============================] - 0s 168us/step - loss: 0.8086 - acc: 0.5867 - val_loss: 0.7689 - val_acc: 0.5304\n",
      "Epoch 8/150\n",
      "2267/2267 [==============================] - 0s 169us/step - loss: 0.7754 - acc: 0.5920 - val_loss: 0.6712 - val_acc: 0.5966\n",
      "Epoch 9/150\n",
      "2267/2267 [==============================] - 0s 170us/step - loss: 0.7857 - acc: 0.6136 - val_loss: 0.6709 - val_acc: 0.6693\n",
      "Epoch 10/150\n",
      "2267/2267 [==============================] - 0s 170us/step - loss: 0.7528 - acc: 0.5999 - val_loss: 0.6603 - val_acc: 0.6627\n",
      "Epoch 11/150\n",
      "2267/2267 [==============================] - 0s 168us/step - loss: 0.7726 - acc: 0.5955 - val_loss: 0.7714 - val_acc: 0.6085\n",
      "Epoch 12/150\n",
      "2267/2267 [==============================] - 0s 169us/step - loss: 0.7588 - acc: 0.6193 - val_loss: 0.6483 - val_acc: 0.6693\n",
      "Epoch 13/150\n",
      "2267/2267 [==============================] - 0s 171us/step - loss: 0.7346 - acc: 0.6092 - val_loss: 0.6653 - val_acc: 0.6587\n",
      "Epoch 14/150\n",
      "2267/2267 [==============================] - 0s 170us/step - loss: 0.7698 - acc: 0.6136 - val_loss: 0.7197 - val_acc: 0.6217\n",
      "Epoch 15/150\n",
      "2267/2267 [==============================] - 0s 170us/step - loss: 0.7350 - acc: 0.6242 - val_loss: 0.7078 - val_acc: 0.6706\n",
      "Epoch 16/150\n",
      "2267/2267 [==============================] - 0s 170us/step - loss: 0.7154 - acc: 0.6277 - val_loss: 0.6927 - val_acc: 0.6720\n",
      "Epoch 17/150\n",
      "2267/2267 [==============================] - 0s 170us/step - loss: 0.7277 - acc: 0.6176 - val_loss: 0.6613 - val_acc: 0.6733\n",
      "Epoch 18/150\n",
      "2267/2267 [==============================] - 0s 170us/step - loss: 0.7261 - acc: 0.6198 - val_loss: 0.6402 - val_acc: 0.6627\n",
      "Epoch 19/150\n",
      "2267/2267 [==============================] - 0s 171us/step - loss: 0.7558 - acc: 0.6215 - val_loss: 0.7040 - val_acc: 0.6693\n",
      "Epoch 20/150\n",
      "2267/2267 [==============================] - 0s 170us/step - loss: 0.6875 - acc: 0.6224 - val_loss: 0.7089 - val_acc: 0.6151\n",
      "Epoch 21/150\n",
      "2267/2267 [==============================] - 0s 171us/step - loss: 0.7243 - acc: 0.6193 - val_loss: 0.6623 - val_acc: 0.6693\n",
      "Epoch 22/150\n",
      "2267/2267 [==============================] - 0s 170us/step - loss: 0.7096 - acc: 0.6246 - val_loss: 0.6490 - val_acc: 0.6693\n",
      "Epoch 23/150\n",
      "2267/2267 [==============================] - 0s 170us/step - loss: 0.7063 - acc: 0.6246 - val_loss: 0.6591 - val_acc: 0.6693\n",
      "Epoch 24/150\n",
      "2267/2267 [==============================] - 0s 170us/step - loss: 0.6863 - acc: 0.6242 - val_loss: 0.6725 - val_acc: 0.6693\n",
      "Epoch 25/150\n",
      "2267/2267 [==============================] - 0s 169us/step - loss: 0.7210 - acc: 0.6277 - val_loss: 0.6634 - val_acc: 0.6733\n",
      "Epoch 26/150\n",
      "2267/2267 [==============================] - 0s 170us/step - loss: 0.6908 - acc: 0.6237 - val_loss: 0.6861 - val_acc: 0.6693\n",
      "Epoch 27/150\n",
      "2267/2267 [==============================] - 0s 170us/step - loss: 0.7030 - acc: 0.6281 - val_loss: 0.7032 - val_acc: 0.6693\n",
      "Epoch 28/150\n",
      "2267/2267 [==============================] - 0s 171us/step - loss: 0.6939 - acc: 0.6211 - val_loss: 0.6609 - val_acc: 0.6640\n",
      "Epoch 29/150\n",
      "2267/2267 [==============================] - 0s 171us/step - loss: 0.6982 - acc: 0.6299 - val_loss: 0.6776 - val_acc: 0.6693\n",
      "Epoch 30/150\n",
      "2267/2267 [==============================] - 0s 174us/step - loss: 0.7040 - acc: 0.6259 - val_loss: 0.6491 - val_acc: 0.6693\n",
      "Epoch 31/150\n",
      "2267/2267 [==============================] - 0s 172us/step - loss: 0.6756 - acc: 0.6268 - val_loss: 0.6498 - val_acc: 0.6693\n",
      "Epoch 32/150\n",
      "2267/2267 [==============================] - 0s 172us/step - loss: 0.6964 - acc: 0.6259 - val_loss: 0.6467 - val_acc: 0.6693\n",
      "Epoch 33/150\n",
      "2267/2267 [==============================] - 0s 170us/step - loss: 0.6989 - acc: 0.6259 - val_loss: 0.6393 - val_acc: 0.6693\n",
      "Epoch 34/150\n",
      "2267/2267 [==============================] - 0s 170us/step - loss: 0.6648 - acc: 0.6273 - val_loss: 0.6426 - val_acc: 0.6693\n",
      "Epoch 35/150\n",
      "2267/2267 [==============================] - 0s 172us/step - loss: 0.6789 - acc: 0.6255 - val_loss: 0.6696 - val_acc: 0.6693\n",
      "Epoch 36/150\n",
      "2267/2267 [==============================] - 0s 171us/step - loss: 0.6880 - acc: 0.6286 - val_loss: 0.6622 - val_acc: 0.6693\n",
      "Epoch 37/150\n",
      "2267/2267 [==============================] - 0s 171us/step - loss: 0.6744 - acc: 0.6259 - val_loss: 0.6586 - val_acc: 0.6693\n",
      "Epoch 38/150\n",
      "2267/2267 [==============================] - 0s 171us/step - loss: 0.6797 - acc: 0.6273 - val_loss: 0.6526 - val_acc: 0.6693\n",
      "Epoch 39/150\n",
      "2267/2267 [==============================] - 0s 177us/step - loss: 0.6776 - acc: 0.6259 - val_loss: 0.6561 - val_acc: 0.6693\n",
      "Epoch 40/150\n",
      "2267/2267 [==============================] - 0s 180us/step - loss: 0.6757 - acc: 0.6286 - val_loss: 0.6408 - val_acc: 0.6693\n",
      "Epoch 41/150\n",
      "2267/2267 [==============================] - 0s 177us/step - loss: 0.6667 - acc: 0.6277 - val_loss: 0.6667 - val_acc: 0.6693\n",
      "Epoch 42/150\n",
      "2267/2267 [==============================] - 0s 176us/step - loss: 0.6683 - acc: 0.6290 - val_loss: 0.6658 - val_acc: 0.6693\n",
      "Epoch 43/150\n",
      "2267/2267 [==============================] - 0s 174us/step - loss: 0.6599 - acc: 0.6273 - val_loss: 0.6644 - val_acc: 0.6693\n",
      "Epoch 44/150\n",
      "2267/2267 [==============================] - 0s 179us/step - loss: 0.6760 - acc: 0.6255 - val_loss: 0.6568 - val_acc: 0.6693\n",
      "Epoch 45/150\n",
      "2267/2267 [==============================] - 0s 173us/step - loss: 0.6648 - acc: 0.6286 - val_loss: 0.6485 - val_acc: 0.6640\n",
      "Epoch 46/150\n",
      "2267/2267 [==============================] - 0s 172us/step - loss: 0.6587 - acc: 0.6281 - val_loss: 0.6471 - val_acc: 0.6693\n",
      "Epoch 47/150\n",
      "2267/2267 [==============================] - 0s 171us/step - loss: 0.6642 - acc: 0.6268 - val_loss: 0.6461 - val_acc: 0.6693\n",
      "Epoch 48/150\n",
      "2267/2267 [==============================] - 0s 171us/step - loss: 0.6657 - acc: 0.6286 - val_loss: 0.6701 - val_acc: 0.6640\n",
      "Epoch 49/150\n",
      "2267/2267 [==============================] - 0s 172us/step - loss: 0.6627 - acc: 0.6277 - val_loss: 0.6519 - val_acc: 0.6640\n",
      "Epoch 50/150\n",
      "2267/2267 [==============================] - 0s 172us/step - loss: 0.6625 - acc: 0.6277 - val_loss: 0.6365 - val_acc: 0.6640\n",
      "Epoch 51/150\n",
      "2267/2267 [==============================] - 0s 172us/step - loss: 0.6601 - acc: 0.6277 - val_loss: 0.6481 - val_acc: 0.6693\n",
      "Epoch 52/150\n",
      "2267/2267 [==============================] - 0s 171us/step - loss: 0.6578 - acc: 0.6308 - val_loss: 0.6432 - val_acc: 0.6680\n",
      "Epoch 53/150\n",
      "2267/2267 [==============================] - 0s 170us/step - loss: 0.6598 - acc: 0.6259 - val_loss: 0.6500 - val_acc: 0.6693\n",
      "Epoch 54/150\n",
      "2267/2267 [==============================] - 0s 173us/step - loss: 0.6626 - acc: 0.6251 - val_loss: 0.6402 - val_acc: 0.6693\n",
      "Epoch 55/150\n",
      "2267/2267 [==============================] - 0s 172us/step - loss: 0.6550 - acc: 0.6312 - val_loss: 0.6585 - val_acc: 0.6693\n",
      "Epoch 56/150\n",
      "2267/2267 [==============================] - 0s 171us/step - loss: 0.6615 - acc: 0.6299 - val_loss: 0.6605 - val_acc: 0.6693\n",
      "Epoch 57/150\n",
      "2267/2267 [==============================] - 0s 172us/step - loss: 0.6577 - acc: 0.6286 - val_loss: 0.6384 - val_acc: 0.6693\n",
      "Epoch 58/150\n"
     ]
    },
    {
     "name": "stdout",
     "output_type": "stream",
     "text": [
      "2267/2267 [==============================] - 0s 171us/step - loss: 0.6631 - acc: 0.6273 - val_loss: 0.6563 - val_acc: 0.6693\n",
      "Epoch 59/150\n",
      "2267/2267 [==============================] - 0s 170us/step - loss: 0.6575 - acc: 0.6277 - val_loss: 0.6613 - val_acc: 0.6640\n",
      "Epoch 60/150\n",
      "2267/2267 [==============================] - 0s 179us/step - loss: 0.6604 - acc: 0.6268 - val_loss: 0.6578 - val_acc: 0.6693\n",
      "Epoch 61/150\n",
      "2267/2267 [==============================] - 0s 170us/step - loss: 0.6586 - acc: 0.6286 - val_loss: 0.6358 - val_acc: 0.6693\n",
      "Epoch 62/150\n",
      "2267/2267 [==============================] - 0s 172us/step - loss: 0.6588 - acc: 0.6281 - val_loss: 0.6445 - val_acc: 0.6693\n",
      "Epoch 63/150\n",
      "2267/2267 [==============================] - 0s 177us/step - loss: 0.6570 - acc: 0.6277 - val_loss: 0.6678 - val_acc: 0.6693\n",
      "Epoch 64/150\n",
      "2267/2267 [==============================] - 0s 181us/step - loss: 0.6574 - acc: 0.6273 - val_loss: 0.6483 - val_acc: 0.6693\n",
      "Epoch 65/150\n",
      "2267/2267 [==============================] - 0s 179us/step - loss: 0.6594 - acc: 0.6273 - val_loss: 0.6491 - val_acc: 0.6640\n",
      "Epoch 66/150\n",
      "2267/2267 [==============================] - 0s 174us/step - loss: 0.6554 - acc: 0.6273 - val_loss: 0.6527 - val_acc: 0.6640\n",
      "Epoch 67/150\n",
      "2267/2267 [==============================] - 0s 174us/step - loss: 0.6550 - acc: 0.6268 - val_loss: 0.6422 - val_acc: 0.6693\n",
      "Epoch 68/150\n",
      "2267/2267 [==============================] - 0s 174us/step - loss: 0.6581 - acc: 0.6321 - val_loss: 0.6374 - val_acc: 0.6693\n",
      "Epoch 69/150\n",
      "2267/2267 [==============================] - 0s 181us/step - loss: 0.6558 - acc: 0.6273 - val_loss: 0.6541 - val_acc: 0.6693\n",
      "Epoch 70/150\n",
      "2267/2267 [==============================] - 0s 169us/step - loss: 0.6564 - acc: 0.6290 - val_loss: 0.6428 - val_acc: 0.6693\n",
      "Epoch 71/150\n",
      "2267/2267 [==============================] - 0s 170us/step - loss: 0.6582 - acc: 0.6295 - val_loss: 0.6341 - val_acc: 0.6693\n",
      "Epoch 72/150\n",
      "2267/2267 [==============================] - 0s 169us/step - loss: 0.6573 - acc: 0.6290 - val_loss: 0.6422 - val_acc: 0.6693\n",
      "Epoch 73/150\n",
      "2267/2267 [==============================] - 0s 169us/step - loss: 0.6540 - acc: 0.6317 - val_loss: 0.6397 - val_acc: 0.6693\n",
      "Epoch 74/150\n",
      "2267/2267 [==============================] - 0s 169us/step - loss: 0.6554 - acc: 0.6259 - val_loss: 0.6461 - val_acc: 0.6640\n",
      "Epoch 75/150\n",
      "2267/2267 [==============================] - 0s 173us/step - loss: 0.6532 - acc: 0.6290 - val_loss: 0.6465 - val_acc: 0.6640\n",
      "Epoch 76/150\n",
      "2267/2267 [==============================] - 0s 171us/step - loss: 0.6544 - acc: 0.6277 - val_loss: 0.6417 - val_acc: 0.6693\n",
      "Epoch 77/150\n",
      "2267/2267 [==============================] - 0s 170us/step - loss: 0.6517 - acc: 0.6303 - val_loss: 0.6582 - val_acc: 0.6693\n",
      "Epoch 78/150\n",
      "2267/2267 [==============================] - 0s 170us/step - loss: 0.6565 - acc: 0.6264 - val_loss: 0.6624 - val_acc: 0.6693\n",
      "Epoch 79/150\n",
      "2267/2267 [==============================] - 0s 169us/step - loss: 0.6552 - acc: 0.6273 - val_loss: 0.6449 - val_acc: 0.6693\n",
      "Epoch 80/150\n",
      "2267/2267 [==============================] - 0s 169us/step - loss: 0.6506 - acc: 0.6295 - val_loss: 0.6651 - val_acc: 0.6693\n",
      "Epoch 81/150\n",
      "2267/2267 [==============================] - 0s 170us/step - loss: 0.6540 - acc: 0.6286 - val_loss: 0.6533 - val_acc: 0.6667\n",
      "Epoch 82/150\n",
      "2267/2267 [==============================] - 0s 171us/step - loss: 0.6549 - acc: 0.6273 - val_loss: 0.6687 - val_acc: 0.6706\n",
      "Epoch 83/150\n",
      "2267/2267 [==============================] - 0s 176us/step - loss: 0.6507 - acc: 0.6334 - val_loss: 0.6748 - val_acc: 0.6627\n",
      "Epoch 84/150\n",
      "2267/2267 [==============================] - 0s 169us/step - loss: 0.6531 - acc: 0.6268 - val_loss: 0.6488 - val_acc: 0.6693\n",
      "Epoch 85/150\n",
      "2267/2267 [==============================] - 0s 170us/step - loss: 0.6561 - acc: 0.6286 - val_loss: 0.6584 - val_acc: 0.6693\n",
      "Epoch 86/150\n",
      "2267/2267 [==============================] - 0s 170us/step - loss: 0.6538 - acc: 0.6299 - val_loss: 0.6542 - val_acc: 0.6706\n",
      "Epoch 87/150\n",
      "2267/2267 [==============================] - 0s 173us/step - loss: 0.6531 - acc: 0.6299 - val_loss: 0.6414 - val_acc: 0.6680\n",
      "Epoch 88/150\n",
      "2267/2267 [==============================] - 0s 170us/step - loss: 0.6538 - acc: 0.6273 - val_loss: 0.6508 - val_acc: 0.6706\n",
      "Epoch 89/150\n",
      "2267/2267 [==============================] - 0s 171us/step - loss: 0.6501 - acc: 0.6312 - val_loss: 0.6557 - val_acc: 0.6706\n",
      "Epoch 90/150\n",
      "2267/2267 [==============================] - 0s 169us/step - loss: 0.6525 - acc: 0.6321 - val_loss: 0.6726 - val_acc: 0.6468\n",
      "Epoch 91/150\n",
      "2267/2267 [==============================] - 0s 169us/step - loss: 0.6516 - acc: 0.6321 - val_loss: 0.6641 - val_acc: 0.6481\n",
      "Epoch 92/150\n",
      "2267/2267 [==============================] - 0s 172us/step - loss: 0.6515 - acc: 0.6326 - val_loss: 0.6646 - val_acc: 0.6720\n",
      "Epoch 93/150\n",
      "2267/2267 [==============================] - 0s 170us/step - loss: 0.6551 - acc: 0.6281 - val_loss: 0.6587 - val_acc: 0.6733\n",
      "Epoch 94/150\n",
      "2267/2267 [==============================] - 0s 192us/step - loss: 0.6511 - acc: 0.6330 - val_loss: 0.6541 - val_acc: 0.6720\n",
      "Epoch 95/150\n",
      "2267/2267 [==============================] - 0s 201us/step - loss: 0.6554 - acc: 0.6295 - val_loss: 0.6421 - val_acc: 0.6706\n",
      "Epoch 96/150\n",
      "2267/2267 [==============================] - 0s 179us/step - loss: 0.6505 - acc: 0.6330 - val_loss: 0.6538 - val_acc: 0.6733\n",
      "Epoch 97/150\n",
      "2267/2267 [==============================] - 0s 172us/step - loss: 0.6534 - acc: 0.6233 - val_loss: 0.6533 - val_acc: 0.6720\n",
      "Epoch 98/150\n",
      "2267/2267 [==============================] - 0s 171us/step - loss: 0.6525 - acc: 0.6281 - val_loss: 0.6620 - val_acc: 0.6720\n",
      "Epoch 99/150\n",
      "2267/2267 [==============================] - 0s 174us/step - loss: 0.6497 - acc: 0.6259 - val_loss: 0.6587 - val_acc: 0.6627\n",
      "Epoch 100/150\n",
      "2267/2267 [==============================] - 0s 173us/step - loss: 0.6533 - acc: 0.6237 - val_loss: 0.6511 - val_acc: 0.6706\n",
      "Epoch 101/150\n",
      "2267/2267 [==============================] - 0s 176us/step - loss: 0.6588 - acc: 0.6255 - val_loss: 0.6552 - val_acc: 0.6720\n",
      "Epoch 102/150\n",
      "2267/2267 [==============================] - 0s 173us/step - loss: 0.6556 - acc: 0.6326 - val_loss: 0.6587 - val_acc: 0.6693\n",
      "Epoch 103/150\n",
      "2267/2267 [==============================] - 0s 172us/step - loss: 0.6505 - acc: 0.6299 - val_loss: 0.6649 - val_acc: 0.6720\n",
      "Epoch 104/150\n",
      "2267/2267 [==============================] - 0s 173us/step - loss: 0.6508 - acc: 0.6303 - val_loss: 0.6505 - val_acc: 0.6720\n",
      "Epoch 105/150\n",
      "2267/2267 [==============================] - 0s 175us/step - loss: 0.6505 - acc: 0.6343 - val_loss: 0.6492 - val_acc: 0.6653\n",
      "Epoch 106/150\n",
      "2267/2267 [==============================] - 0s 173us/step - loss: 0.6480 - acc: 0.6268 - val_loss: 0.6414 - val_acc: 0.6706\n",
      "Epoch 107/150\n",
      "2267/2267 [==============================] - 0s 173us/step - loss: 0.6501 - acc: 0.6299 - val_loss: 0.6474 - val_acc: 0.6680\n",
      "Epoch 108/150\n",
      "2267/2267 [==============================] - 0s 177us/step - loss: 0.6513 - acc: 0.6259 - val_loss: 0.6563 - val_acc: 0.6706\n",
      "Epoch 109/150\n",
      "2267/2267 [==============================] - 0s 174us/step - loss: 0.6501 - acc: 0.6281 - val_loss: 0.6535 - val_acc: 0.6706\n",
      "Epoch 110/150\n",
      "2267/2267 [==============================] - 0s 181us/step - loss: 0.6531 - acc: 0.6295 - val_loss: 0.6552 - val_acc: 0.6706\n",
      "Epoch 111/150\n",
      "2267/2267 [==============================] - 0s 171us/step - loss: 0.6501 - acc: 0.6317 - val_loss: 0.6623 - val_acc: 0.6548\n",
      "Epoch 112/150\n",
      "2267/2267 [==============================] - 0s 173us/step - loss: 0.6507 - acc: 0.6326 - val_loss: 0.6511 - val_acc: 0.6680\n",
      "Epoch 113/150\n",
      "2267/2267 [==============================] - 0s 172us/step - loss: 0.6499 - acc: 0.6326 - val_loss: 0.6668 - val_acc: 0.6601\n",
      "Epoch 114/150\n",
      "2267/2267 [==============================] - 0s 171us/step - loss: 0.6490 - acc: 0.6303 - val_loss: 0.6610 - val_acc: 0.6667\n",
      "Epoch 115/150\n",
      "2267/2267 [==============================] - 0s 173us/step - loss: 0.6526 - acc: 0.6268 - val_loss: 0.6672 - val_acc: 0.6667\n",
      "Epoch 116/150\n",
      "2267/2267 [==============================] - 0s 172us/step - loss: 0.6509 - acc: 0.6264 - val_loss: 0.6465 - val_acc: 0.6653\n",
      "Epoch 117/150\n",
      "2267/2267 [==============================] - 0s 171us/step - loss: 0.6484 - acc: 0.6308 - val_loss: 0.6659 - val_acc: 0.6627\n",
      "Epoch 118/150\n",
      "2267/2267 [==============================] - 0s 170us/step - loss: 0.6513 - acc: 0.6268 - val_loss: 0.6524 - val_acc: 0.6693\n",
      "Epoch 119/150\n",
      "2267/2267 [==============================] - 0s 170us/step - loss: 0.6478 - acc: 0.6334 - val_loss: 0.6588 - val_acc: 0.6667\n",
      "Epoch 120/150\n",
      "2267/2267 [==============================] - 0s 172us/step - loss: 0.6530 - acc: 0.6259 - val_loss: 0.6562 - val_acc: 0.6693\n",
      "Epoch 121/150\n",
      "2267/2267 [==============================] - 0s 176us/step - loss: 0.6493 - acc: 0.6339 - val_loss: 0.6499 - val_acc: 0.6680\n",
      "Epoch 122/150\n",
      "2267/2267 [==============================] - 0s 173us/step - loss: 0.6499 - acc: 0.6273 - val_loss: 0.6519 - val_acc: 0.6667\n",
      "Epoch 123/150\n",
      "2267/2267 [==============================] - 0s 180us/step - loss: 0.6460 - acc: 0.6343 - val_loss: 0.6639 - val_acc: 0.6587\n",
      "Epoch 124/150\n",
      "2267/2267 [==============================] - 0s 172us/step - loss: 0.6526 - acc: 0.6330 - val_loss: 0.6626 - val_acc: 0.6667\n",
      "Epoch 125/150\n",
      "2267/2267 [==============================] - 0s 178us/step - loss: 0.6480 - acc: 0.6255 - val_loss: 0.6684 - val_acc: 0.6429\n",
      "Epoch 126/150\n",
      "2267/2267 [==============================] - 0s 177us/step - loss: 0.6509 - acc: 0.6281 - val_loss: 0.6600 - val_acc: 0.6680\n",
      "Epoch 127/150\n",
      "2267/2267 [==============================] - 0s 177us/step - loss: 0.6492 - acc: 0.6299 - val_loss: 0.6553 - val_acc: 0.6627\n",
      "Epoch 128/150\n",
      "2267/2267 [==============================] - 0s 203us/step - loss: 0.6497 - acc: 0.6303 - val_loss: 0.6517 - val_acc: 0.6653\n",
      "Epoch 129/150\n",
      "2267/2267 [==============================] - 0s 178us/step - loss: 0.6481 - acc: 0.6321 - val_loss: 0.6468 - val_acc: 0.6614\n",
      "Epoch 130/150\n",
      "2267/2267 [==============================] - 0s 171us/step - loss: 0.6492 - acc: 0.6295 - val_loss: 0.6587 - val_acc: 0.6587\n",
      "Epoch 131/150\n",
      "2267/2267 [==============================] - 0s 171us/step - loss: 0.6467 - acc: 0.6356 - val_loss: 0.6528 - val_acc: 0.6627\n",
      "Epoch 132/150\n",
      "2267/2267 [==============================] - 0s 172us/step - loss: 0.6484 - acc: 0.6295 - val_loss: 0.6602 - val_acc: 0.6402\n",
      "Epoch 133/150\n",
      "2267/2267 [==============================] - ETA: 0s - loss: 0.6460 - acc: 0.636 - 0s 172us/step - loss: 0.6485 - acc: 0.6308 - val_loss: 0.6689 - val_acc: 0.6415\n",
      "Epoch 134/150\n",
      "2267/2267 [==============================] - 0s 172us/step - loss: 0.6500 - acc: 0.6264 - val_loss: 0.6668 - val_acc: 0.6481\n",
      "Epoch 135/150\n",
      "2267/2267 [==============================] - 0s 172us/step - loss: 0.6485 - acc: 0.6290 - val_loss: 0.6643 - val_acc: 0.6587\n",
      "Epoch 136/150\n",
      "2267/2267 [==============================] - 0s 170us/step - loss: 0.6476 - acc: 0.6303 - val_loss: 0.6749 - val_acc: 0.6574\n",
      "Epoch 137/150\n",
      "2267/2267 [==============================] - 0s 170us/step - loss: 0.6494 - acc: 0.6268 - val_loss: 0.6610 - val_acc: 0.6614\n",
      "Epoch 138/150\n",
      "2267/2267 [==============================] - 0s 175us/step - loss: 0.6498 - acc: 0.6295 - val_loss: 0.6555 - val_acc: 0.6574\n",
      "Epoch 139/150\n",
      "2267/2267 [==============================] - 0s 173us/step - loss: 0.6471 - acc: 0.6312 - val_loss: 0.6793 - val_acc: 0.6468\n",
      "Epoch 140/150\n",
      "2267/2267 [==============================] - 0s 174us/step - loss: 0.6462 - acc: 0.6343 - val_loss: 0.6553 - val_acc: 0.6548\n",
      "Epoch 141/150\n",
      "2267/2267 [==============================] - 0s 181us/step - loss: 0.6493 - acc: 0.6299 - val_loss: 0.6668 - val_acc: 0.6521\n",
      "Epoch 142/150\n",
      "2267/2267 [==============================] - 0s 190us/step - loss: 0.6487 - acc: 0.6224 - val_loss: 0.6587 - val_acc: 0.6601\n",
      "Epoch 143/150\n",
      "2267/2267 [==============================] - 0s 178us/step - loss: 0.6491 - acc: 0.6290 - val_loss: 0.6507 - val_acc: 0.6601\n",
      "Epoch 144/150\n",
      "2267/2267 [==============================] - 0s 183us/step - loss: 0.6479 - acc: 0.6264 - val_loss: 0.6525 - val_acc: 0.6640\n",
      "Epoch 145/150\n",
      "2267/2267 [==============================] - 0s 173us/step - loss: 0.6494 - acc: 0.6268 - val_loss: 0.6537 - val_acc: 0.6614\n",
      "Epoch 146/150\n",
      "2267/2267 [==============================] - 0s 171us/step - loss: 0.6498 - acc: 0.6308 - val_loss: 0.6428 - val_acc: 0.6627\n",
      "Epoch 147/150\n",
      "2267/2267 [==============================] - 0s 182us/step - loss: 0.6489 - acc: 0.6317 - val_loss: 0.6613 - val_acc: 0.6574\n",
      "Epoch 148/150\n",
      "2267/2267 [==============================] - 0s 177us/step - loss: 0.6498 - acc: 0.6281 - val_loss: 0.6522 - val_acc: 0.6627\n",
      "Epoch 149/150\n",
      "2267/2267 [==============================] - 0s 173us/step - loss: 0.6486 - acc: 0.6339 - val_loss: 0.6674 - val_acc: 0.6481\n",
      "Epoch 150/150\n",
      "2267/2267 [==============================] - 0s 174us/step - loss: 0.6468 - acc: 0.6343 - val_loss: 0.6535 - val_acc: 0.6587\n"
     ]
    }
   ],
   "source": [
    "#X_train is 0.8 of total data set so cross validation needs to be 0.25 of X_train to be 0.2 of total dataset\n",
    "history = model.fit(X_train, y_train, validation_split=0.25, epochs=150, batch_size=16, verbose = 1)"
   ]
  },
  {
   "cell_type": "markdown",
   "metadata": {},
   "source": [
    "### Plot results"
   ]
  },
  {
   "cell_type": "code",
   "execution_count": 6,
   "metadata": {},
   "outputs": [
    {
     "data": {
      "image/png": "[encoded data removed]",
      "text/plain": [
       "<Figure size 432x288 with 1 Axes>"
      ]
     },
     "metadata": {
      "needs_background": "light"
     },
     "output_type": "display_data"
    }
   ],
   "source": [
    "plt.plot(history.history['acc'])\n",
    "plt.plot(history.history['val_acc'])\n",
    "plt.title('model accuracy')\n",
    "plt.ylabel('accuracy')\n",
    "plt.xlabel('epoch')\n",
    "plt.legend(['train', 'test'], loc='upper left')\n",
    "plt.show()"
   ]
  },
  {
   "cell_type": "markdown",
   "metadata": {},
   "source": [
    "### Accuracy on test set"
   ]
  },
  {
   "cell_type": "code",
   "execution_count": 7,
   "metadata": {},
   "outputs": [
    {
     "name": "stdout",
     "output_type": "stream",
     "text": [
      "732/732 [==============================] - 0s 23us/step\n",
      "loss on test set = nan\n",
      "accuracy on test set = 0.5792349726775956\n"
     ]
    }
   ],
   "source": [
    "loss, accuracy = model.evaluate(x=X_test, y=y_test,batch_size=64, verbose=1)\n",
    "print('loss on test set = ' + str(loss))\n",
    "print('accuracy on test set = ' + str(accuracy))"
   ]
  },
  {
   "cell_type": "code",
   "execution_count": 8,
   "metadata": {},
   "outputs": [
    {
     "name": "stdout",
     "output_type": "stream",
     "text": [
      "_________________________________________________________________\n",
      "Layer (type)                 Output Shape              Param #   \n",
      "=================================================================\n",
      "dense_1 (Dense)              (None, 512)               9216      \n",
      "_________________________________________________________________\n",
      "dropout_1 (Dropout)          (None, 512)               0         \n",
      "_________________________________________________________________\n",
      "dense_2 (Dense)              (None, 1)                 513       \n",
      "=================================================================\n",
      "Total params: 9,729\n",
      "Trainable params: 9,729\n",
      "Non-trainable params: 0\n",
      "_________________________________________________________________\n"
     ]
    }
   ],
   "source": [
    "model.summary()"
   ]
  },
  {
   "cell_type": "code",
   "execution_count": 9,
   "metadata": {},
   "outputs": [],
   "source": [
    "results = model.predict(X_test, batch_size=64, verbose=0, steps=None)"
   ]
  },
  {
   "cell_type": "code",
   "execution_count": 10,
   "metadata": {},
   "outputs": [],
   "source": [
    "\n",
    "\n",
    "results = pd.DataFrame(results, columns=['results']).to_csv('databases/Database_2_results.csv')"
   ]
  },
  {
   "cell_type": "code",
   "execution_count": null,
   "metadata": {},
   "outputs": [],
   "source": []
  }
 ],
 "metadata": {
  "kernelspec": {
   "display_name": "TensorFlow-GPU",
   "language": "python",
   "name": "tf-gpu"
  },
  "language_info": {
   "codemirror_mode": {
    "name": "ipython",
    "version": 3
   },
   "file_extension": ".py",
   "mimetype": "text/x-python",
   "name": "python",
   "nbconvert_exporter": "python",
   "pygments_lexer": "ipython3",
   "version": "3.6.8"
  }
 },
 "nbformat": 4,
 "nbformat_minor": 2
}
