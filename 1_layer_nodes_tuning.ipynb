{
 "cells": [
  {
   "cell_type": "code",
   "execution_count": null,
   "metadata": {},
   "outputs": [],
   "source": [
    "from ipynb.fs.full.functions import import_data\n",
    "from keras.models import Sequential\n",
    "from keras.layers import Dense, Activation, Dropout\n",
    "from keras import optimizers, regularizers\n",
    "import numpy as np\n",
    "import keras.utils\n",
    "import matplotlib.pyplot as plt\n",
    "import pandas as pd\n",
    "\n",
    "import talos as ta\n"
   ]
  },
  {
   "cell_type": "markdown",
   "metadata": {},
   "source": [
    "### Load data"
   ]
  },
  {
   "cell_type": "code",
   "execution_count": null,
   "metadata": {},
   "outputs": [],
   "source": [
    "#X train also contains cross validation set. model.fit will split it between training and cross validation\n",
    "X, X_train, X_test, y_train, y_test = import_data('Database_2.csv')\n",
    "input_size = X_train.shape[1]"
   ]
  },
  {
   "cell_type": "markdown",
   "metadata": {},
   "source": [
    "### Create model"
   ]
  },
  {
   "cell_type": "code",
   "execution_count": null,
   "metadata": {},
   "outputs": [],
   "source": [
    "def stock_picker_model(x_train, y_train, x_val, y_val, params):\n",
    "    #Build model\n",
    "    model = Sequential()\n",
    "    model.add(Dense(params['first_layer'], activation='relu', input_dim=input_size,kernel_regularizer=regularizers.l2(0.00), activity_regularizer=regularizers.l1(0.00)))\n",
    "    model.add(Dense(1, activation='sigmoid'))\n",
    "    \n",
    "    #compile model\n",
    "    optimizer = optimizers.Adam(lr=0.001, beta_1 = 0.9, beta_2=0.999)\n",
    "    model.compile(optimizer=optimizer,\n",
    "                  loss = 'binary_crossentropy',\n",
    "                  metrics=['accuracy'])\n",
    "    \n",
    "    #fit\n",
    "    out = model.fit(x_train, y_train, \n",
    "                        validation_data=[x_val, y_val],\n",
    "                        batch_size=params['batch_size'],\n",
    "                        epochs=params['epochs'],\n",
    "                        verbose=0)\n",
    "    \n",
    "    return out, model"
   ]
  },
  {
   "cell_type": "markdown",
   "metadata": {},
   "source": [
    "### Build parameters testing dictionnary"
   ]
  },
  {
   "cell_type": "code",
   "execution_count": null,
   "metadata": {},
   "outputs": [],
   "source": [
    "p = {'first_layer' : [8, 16, 32, 64, 128, 256, 512],\n",
    "    'batch_size' : [8, 16, 32, 64, 128],\n",
    "    'epochs' : [10, 20, 40, 80, 160, 320]}"
   ]
  },
  {
   "cell_type": "markdown",
   "metadata": {},
   "source": [
    "### Run grid search"
   ]
  },
  {
   "cell_type": "code",
   "execution_count": null,
   "metadata": {},
   "outputs": [],
   "source": [
    "t = ta.Scan(x=X_train,\n",
    "            y=y_train,\n",
    "            model=stock_picker_model,\n",
    "            params=p,\n",
    "            dataset_name='1_layer_tuning_report',\n",
    "            experiment_no='1')\n",
    "            \n",
    "            "
   ]
  }
 ],
 "metadata": {
  "kernelspec": {
   "display_name": "Python 3",
   "language": "python",
   "name": "python3"
  },
  "language_info": {
   "codemirror_mode": {
    "name": "ipython",
    "version": 3
   },
   "file_extension": ".py",
   "mimetype": "text/x-python",
   "name": "python",
   "nbconvert_exporter": "python",
   "pygments_lexer": "ipython3",
   "version": "3.6.8"
  }
 },
 "nbformat": 4,
 "nbformat_minor": 2
}
