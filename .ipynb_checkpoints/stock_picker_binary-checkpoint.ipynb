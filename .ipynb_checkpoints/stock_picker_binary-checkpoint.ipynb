{
 "cells": [
  {
   "cell_type": "code",
   "execution_count": 1,
   "metadata": {},
   "outputs": [
    {
     "name": "stderr",
     "output_type": "stream",
     "text": [
      "Using TensorFlow backend.\n"
     ]
    }
   ],
   "source": [
    "from ipynb.fs.full.functions import import_data\n",
    "from keras.models import Sequential\n",
    "from keras.layers import Dense, Activation, Dropout\n",
    "from keras import optimizers, regularizers\n",
    "import numpy as np\n",
    "import keras.utils\n",
    "import matplotlib.pyplot as plt\n",
    "import pandas as pd"
   ]
  },
  {
   "cell_type": "markdown",
   "metadata": {},
   "source": [
    "### Import data"
   ]
  },
  {
   "cell_type": "code",
   "execution_count": 2,
   "metadata": {},
   "outputs": [],
   "source": [
    "#X train also contains cross validation set. model.fit will split it between training and cross validation\n",
    "X, X_train, X_test, y_train, y_test = import_data('Database_2.csv')\n",
    "input_size = X_train.shape[1]\n"
   ]
  },
  {
   "cell_type": "markdown",
   "metadata": {},
   "source": [
    "### Build model \n",
    "\n",
    "- Tuning returned the following results:\n",
    "- Best accuracy reached for 2 layers model with 512 and 128 nodes in first and second layers\n",
    "- High acuracy can be reached from a single layer neural netwok of 128 or 256 nodes if computing power is not easily available\n",
    "- Optimal batch sizes are 64 and 128\n",
    "- 320 epochs get the best accuracy, 160 gives reasonably good accuracy\n",
    "- best learning rate 1.28\n",
    "- best l1 regularizer = 0.01\n",
    "= best l2 regularizer = 0.01\n"
   ]
  },
  {
   "cell_type": "code",
   "execution_count": 3,
   "metadata": {},
   "outputs": [
    {
     "name": "stdout",
     "output_type": "stream",
     "text": [
      "WARNING:tensorflow:From C:\\Users\\auria\\Anaconda3\\envs\\keras_environment\\lib\\site-packages\\tensorflow\\python\\framework\\op_def_library.py:263: colocate_with (from tensorflow.python.framework.ops) is deprecated and will be removed in a future version.\n",
      "Instructions for updating:\n",
      "Colocations handled automatically by placer.\n"
     ]
    }
   ],
   "source": [
    "model = Sequential()\n",
    "\n",
    "model.add(Dense(512, activation='relu', input_dim=input_size,kernel_regularizer=regularizers.l2(0.02)))\n",
    "model.add(Dense(128, activation='relu',kernel_regularizer=regularizers.l2(0.02)))\n",
    "\n",
    "model.add(Dense(1, activation='sigmoid'))"
   ]
  },
  {
   "cell_type": "markdown",
   "metadata": {},
   "source": [
    "### Compile model"
   ]
  },
  {
   "cell_type": "code",
   "execution_count": 4,
   "metadata": {},
   "outputs": [],
   "source": [
    "optimizer = optimizers.Adam(lr=0.01, beta_1 = 0.9, beta_2=0.999)\n",
    "model.compile(optimizer=optimizer,\n",
    "              loss='binary_crossentropy',\n",
    "              metrics=['accuracy'])"
   ]
  },
  {
   "cell_type": "markdown",
   "metadata": {},
   "source": [
    "### Train model"
   ]
  },
  {
   "cell_type": "code",
   "execution_count": 5,
   "metadata": {},
   "outputs": [
    {
     "name": "stdout",
     "output_type": "stream",
     "text": [
      "WARNING:tensorflow:From C:\\Users\\auria\\Anaconda3\\envs\\keras_environment\\lib\\site-packages\\tensorflow\\python\\ops\\math_ops.py:3066: to_int32 (from tensorflow.python.ops.math_ops) is deprecated and will be removed in a future version.\n",
      "Instructions for updating:\n",
      "Use tf.cast instead.\n",
      "Train on 2253 samples, validate on 751 samples\n",
      "Epoch 1/50\n",
      "2253/2253 [==============================] - 3s 1ms/step - loss: 1.3233 - acc: 0.6791 - val_loss: 0.8391 - val_acc: 0.7111\n",
      "Epoch 2/50\n",
      "2253/2253 [==============================] - 1s 287us/step - loss: 0.7316 - acc: 0.7031 - val_loss: 0.6681 - val_acc: 0.7111\n",
      "Epoch 3/50\n",
      "2253/2253 [==============================] - 1s 283us/step - loss: 0.8264 - acc: 0.7044 - val_loss: 0.7796 - val_acc: 0.7111\n",
      "Epoch 4/50\n",
      "2253/2253 [==============================] - 1s 279us/step - loss: 0.6231 - acc: 0.7217 - val_loss: 0.6967 - val_acc: 0.4248\n",
      "Epoch 5/50\n",
      "2253/2253 [==============================] - 1s 274us/step - loss: 0.6139 - acc: 0.7439 - val_loss: 0.5163 - val_acc: 0.8216\n",
      "Epoch 6/50\n",
      "2253/2253 [==============================] - 1s 268us/step - loss: 0.7632 - acc: 0.7745 - val_loss: 0.6630 - val_acc: 0.7470\n",
      "Epoch 7/50\n",
      "2253/2253 [==============================] - 1s 262us/step - loss: 0.5022 - acc: 0.8256 - val_loss: 0.3792 - val_acc: 0.8336\n",
      "Epoch 8/50\n",
      "2253/2253 [==============================] - 1s 279us/step - loss: 0.3811 - acc: 0.8473 - val_loss: 0.4366 - val_acc: 0.8602\n",
      "Epoch 9/50\n",
      "2253/2253 [==============================] - 1s 280us/step - loss: 0.4452 - acc: 0.8478 - val_loss: 0.3290 - val_acc: 0.8682\n",
      "Epoch 10/50\n",
      "2253/2253 [==============================] - 1s 282us/step - loss: 0.4693 - acc: 0.8806 - val_loss: 0.4147 - val_acc: 0.8802\n",
      "Epoch 11/50\n",
      "2253/2253 [==============================] - 1s 283us/step - loss: 0.3727 - acc: 0.8961 - val_loss: 0.3182 - val_acc: 0.9001\n",
      "Epoch 12/50\n",
      "2253/2253 [==============================] - 1s 283us/step - loss: 0.2798 - acc: 0.9072 - val_loss: 0.3547 - val_acc: 0.8682\n",
      "Epoch 13/50\n",
      "2253/2253 [==============================] - 1s 275us/step - loss: 0.2680 - acc: 0.8961 - val_loss: 0.2390 - val_acc: 0.9188\n",
      "Epoch 14/50\n",
      "2253/2253 [==============================] - 1s 282us/step - loss: 0.4442 - acc: 0.8895 - val_loss: 0.4416 - val_acc: 0.9214\n",
      "Epoch 15/50\n",
      "2253/2253 [==============================] - 1s 288us/step - loss: 0.4894 - acc: 0.8944 - val_loss: 0.3479 - val_acc: 0.9387\n",
      "Epoch 16/50\n",
      "2253/2253 [==============================] - 1s 276us/step - loss: 0.3434 - acc: 0.9316 - val_loss: 0.3020 - val_acc: 0.9321\n",
      "Epoch 17/50\n",
      "2253/2253 [==============================] - 1s 288us/step - loss: 0.3338 - acc: 0.9166 - val_loss: 0.2931 - val_acc: 0.9361\n",
      "Epoch 18/50\n",
      "2253/2253 [==============================] - 1s 273us/step - loss: 0.3035 - acc: 0.9237 - val_loss: 0.2394 - val_acc: 0.9547\n",
      "Epoch 19/50\n",
      "2253/2253 [==============================] - 1s 275us/step - loss: 0.2545 - acc: 0.9463 - val_loss: 0.2927 - val_acc: 0.9228\n",
      "Epoch 20/50\n",
      "2253/2253 [==============================] - 1s 263us/step - loss: 0.2793 - acc: 0.9334 - val_loss: 0.2203 - val_acc: 0.9627\n",
      "Epoch 21/50\n",
      "2253/2253 [==============================] - 0s 201us/step - loss: 0.2554 - acc: 0.9396 - val_loss: 0.2216 - val_acc: 0.9561\n",
      "Epoch 22/50\n",
      "2253/2253 [==============================] - 0s 202us/step - loss: 0.2411 - acc: 0.9503 - val_loss: 0.2081 - val_acc: 0.9534\n",
      "Epoch 23/50\n",
      "2253/2253 [==============================] - 0s 197us/step - loss: 0.2412 - acc: 0.9370 - val_loss: 0.2159 - val_acc: 0.9294\n",
      "Epoch 24/50\n",
      "2253/2253 [==============================] - 0s 192us/step - loss: 0.2995 - acc: 0.9281 - val_loss: 0.2350 - val_acc: 0.9374\n",
      "Epoch 25/50\n",
      "2253/2253 [==============================] - 0s 188us/step - loss: 0.2664 - acc: 0.9481 - val_loss: 0.2466 - val_acc: 0.9521\n",
      "Epoch 26/50\n",
      "2253/2253 [==============================] - 0s 194us/step - loss: 0.2630 - acc: 0.9441 - val_loss: 0.1643 - val_acc: 0.9414\n",
      "Epoch 27/50\n",
      "2253/2253 [==============================] - 0s 190us/step - loss: 0.1675 - acc: 0.9481 - val_loss: 0.1476 - val_acc: 0.9521\n",
      "Epoch 28/50\n",
      "2253/2253 [==============================] - 0s 203us/step - loss: 0.2082 - acc: 0.9498 - val_loss: 0.1968 - val_acc: 0.9401\n",
      "Epoch 29/50\n",
      "2253/2253 [==============================] - 0s 197us/step - loss: 0.2197 - acc: 0.9348 - val_loss: 0.1516 - val_acc: 0.9494\n",
      "Epoch 30/50\n",
      "2253/2253 [==============================] - 0s 194us/step - loss: 0.1778 - acc: 0.9454 - val_loss: 0.1206 - val_acc: 0.9547\n",
      "Epoch 31/50\n",
      "2253/2253 [==============================] - 0s 192us/step - loss: 0.1522 - acc: 0.9525 - val_loss: 0.2115 - val_acc: 0.9161\n",
      "Epoch 32/50\n",
      "2253/2253 [==============================] - 0s 189us/step - loss: 0.1972 - acc: 0.9396 - val_loss: 0.1848 - val_acc: 0.9268\n",
      "Epoch 33/50\n",
      "2253/2253 [==============================] - 0s 212us/step - loss: 0.2100 - acc: 0.9454 - val_loss: 0.2380 - val_acc: 0.9441\n",
      "Epoch 34/50\n",
      "2253/2253 [==============================] - 0s 195us/step - loss: 0.2702 - acc: 0.9401 - val_loss: 0.1797 - val_acc: 0.9441\n",
      "Epoch 35/50\n",
      "2253/2253 [==============================] - 0s 191us/step - loss: 0.1587 - acc: 0.9547 - val_loss: 0.1695 - val_acc: 0.9601\n",
      "Epoch 36/50\n",
      "2253/2253 [==============================] - 0s 193us/step - loss: 0.2425 - acc: 0.9569 - val_loss: 0.1919 - val_acc: 0.9601\n",
      "Epoch 37/50\n",
      "2253/2253 [==============================] - 0s 192us/step - loss: 0.1814 - acc: 0.9596 - val_loss: 0.1344 - val_acc: 0.9614\n",
      "Epoch 38/50\n",
      "2253/2253 [==============================] - 0s 207us/step - loss: 0.1469 - acc: 0.9658 - val_loss: 0.1342 - val_acc: 0.9521\n",
      "Epoch 39/50\n",
      "2253/2253 [==============================] - 0s 197us/step - loss: 0.2462 - acc: 0.9223 - val_loss: 0.1771 - val_acc: 0.9680\n",
      "Epoch 40/50\n",
      "2253/2253 [==============================] - 1s 228us/step - loss: 0.1741 - acc: 0.9494 - val_loss: 0.1187 - val_acc: 0.9654\n",
      "Epoch 41/50\n",
      "2253/2253 [==============================] - 0s 193us/step - loss: 0.1344 - acc: 0.9632 - val_loss: 0.2139 - val_acc: 0.9601\n",
      "Epoch 42/50\n",
      "2253/2253 [==============================] - 0s 193us/step - loss: 0.1400 - acc: 0.9609 - val_loss: 0.1860 - val_acc: 0.9414\n",
      "Epoch 43/50\n",
      "2253/2253 [==============================] - 0s 193us/step - loss: 0.2446 - acc: 0.9365 - val_loss: 0.2934 - val_acc: 0.9001\n",
      "Epoch 44/50\n",
      "2253/2253 [==============================] - 0s 191us/step - loss: 0.1587 - acc: 0.9427 - val_loss: 0.1726 - val_acc: 0.9401\n",
      "Epoch 45/50\n",
      "2253/2253 [==============================] - 0s 193us/step - loss: 0.1812 - acc: 0.9361 - val_loss: 0.1282 - val_acc: 0.9694\n",
      "Epoch 46/50\n",
      "2253/2253 [==============================] - 0s 199us/step - loss: 0.1412 - acc: 0.9578 - val_loss: 0.1401 - val_acc: 0.9561\n",
      "Epoch 47/50\n",
      "2253/2253 [==============================] - 0s 191us/step - loss: 0.1335 - acc: 0.9601 - val_loss: 0.1821 - val_acc: 0.9254\n",
      "Epoch 48/50\n",
      "2253/2253 [==============================] - 0s 197us/step - loss: 0.1251 - acc: 0.9556 - val_loss: 0.2176 - val_acc: 0.9241\n",
      "Epoch 49/50\n",
      "2253/2253 [==============================] - 0s 188us/step - loss: 0.1587 - acc: 0.9601 - val_loss: 0.2276 - val_acc: 0.9521\n",
      "Epoch 50/50\n",
      "2253/2253 [==============================] - 0s 192us/step - loss: 0.1630 - acc: 0.9552 - val_loss: 0.2831 - val_acc: 0.8975\n"
     ]
    }
   ],
   "source": [
    "#X_train is 0.8 of total data set so cross validation needs to be 0.25 of X_train to be 0.2 of total dataset\n",
    "history = model.fit(X_train, y_train, validation_split=0.25, epochs=50, batch_size=16, verbose = 1)"
   ]
  },
  {
   "cell_type": "markdown",
   "metadata": {},
   "source": [
    "### Plot results"
   ]
  },
  {
   "cell_type": "code",
   "execution_count": 6,
   "metadata": {},
   "outputs": [
    {
     "data": {
      "image/png": "[encoded data removed]",
      "text/plain": [
       "<Figure size 432x288 with 1 Axes>"
      ]
     },
     "metadata": {
      "needs_background": "light"
     },
     "output_type": "display_data"
    }
   ],
   "source": [
    "plt.plot(history.history['acc'])\n",
    "plt.plot(history.history['val_acc'])\n",
    "plt.title('model accuracy')\n",
    "plt.ylabel('accuracy')\n",
    "plt.xlabel('epoch')\n",
    "plt.legend(['train', 'test'], loc='upper left')\n",
    "plt.show()"
   ]
  },
  {
   "cell_type": "markdown",
   "metadata": {},
   "source": [
    "### Accuracy on test set"
   ]
  },
  {
   "cell_type": "code",
   "execution_count": 7,
   "metadata": {},
   "outputs": [
    {
     "name": "stdout",
     "output_type": "stream",
     "text": [
      "751/751 [==============================] - 0s 20us/step\n",
      "loss on test set = 0.3221249264700911\n",
      "accuracy on test set = 0.890812251285294\n"
     ]
    }
   ],
   "source": [
    "loss, accuracy = model.evaluate(x=X_test, y=y_test,batch_size=64, verbose=1)\n",
    "print('loss on test set = ' + str(loss))\n",
    "print('accuracy on test set = ' + str(accuracy))"
   ]
  },
  {
   "cell_type": "code",
   "execution_count": 8,
   "metadata": {},
   "outputs": [
    {
     "name": "stdout",
     "output_type": "stream",
     "text": [
      "_________________________________________________________________\n",
      "Layer (type)                 Output Shape              Param #   \n",
      "=================================================================\n",
      "dense_1 (Dense)              (None, 512)               9216      \n",
      "_________________________________________________________________\n",
      "dense_2 (Dense)              (None, 128)               65664     \n",
      "_________________________________________________________________\n",
      "dense_3 (Dense)              (None, 1)                 129       \n",
      "=================================================================\n",
      "Total params: 75,009\n",
      "Trainable params: 75,009\n",
      "Non-trainable params: 0\n",
      "_________________________________________________________________\n"
     ]
    }
   ],
   "source": [
    "model.summary()"
   ]
  },
  {
   "cell_type": "code",
   "execution_count": 9,
   "metadata": {},
   "outputs": [],
   "source": [
    "results = model.predict(X, batch_size=64, verbose=0, steps=None)"
   ]
  },
  {
   "cell_type": "code",
   "execution_count": 10,
   "metadata": {},
   "outputs": [],
   "source": [
    "\n",
    "\n",
    "results = pd.DataFrame(results, columns=['results']).to_csv('Database_2_results.csv')"
   ]
  },
  {
   "cell_type": "code",
   "execution_count": null,
   "metadata": {},
   "outputs": [],
   "source": []
  }
 ],
 "metadata": {
  "kernelspec": {
   "display_name": "TensorFlow-GPU",
   "language": "python",
   "name": "tf-gpu"
  },
  "language_info": {
   "codemirror_mode": {
    "name": "ipython",
    "version": 3
   },
   "file_extension": ".py",
   "mimetype": "text/x-python",
   "name": "python",
   "nbconvert_exporter": "python",
   "pygments_lexer": "ipython3",
   "version": "3.6.8"
  }
 },
 "nbformat": 4,
 "nbformat_minor": 2
}
