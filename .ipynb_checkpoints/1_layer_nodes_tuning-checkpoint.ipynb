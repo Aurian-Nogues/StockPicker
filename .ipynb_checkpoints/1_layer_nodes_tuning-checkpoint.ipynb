{
 "cells": [
  {
   "cell_type": "code",
   "execution_count": 1,
   "metadata": {},
   "outputs": [
    {
     "name": "stderr",
     "output_type": "stream",
     "text": [
      "Using TensorFlow backend.\n"
     ]
    }
   ],
   "source": [
    "from ipynb.fs.full.functions import import_data\n",
    "from keras.models import Sequential\n",
    "from keras.layers import Dense, Activation, Dropout\n",
    "from keras import optimizers, regularizers\n",
    "import numpy as np\n",
    "import keras.utils\n",
    "import matplotlib.pyplot as plt\n",
    "import pandas as pd\n",
    "\n",
    "import talos as ta\n"
   ]
  },
  {
   "cell_type": "markdown",
   "metadata": {},
   "source": [
    "### Load data"
   ]
  },
  {
   "cell_type": "code",
   "execution_count": 3,
   "metadata": {},
   "outputs": [
    {
     "name": "stdout",
     "output_type": "stream",
     "text": [
      "(3004, 17)\n",
      "(3004, 1)\n"
     ]
    }
   ],
   "source": [
    "#X train also contains cross validation set. model.fit will split it between training and cross validation\n",
    "X, X_train, X_test, y_train, y_test = import_data('Database_2.csv')\n",
    "input_size = X_train.shape[1]\n",
    "print(X_train.shape)\n",
    "print(y_train.shape)"
   ]
  },
  {
   "cell_type": "markdown",
   "metadata": {},
   "source": [
    "### Create model"
   ]
  },
  {
   "cell_type": "code",
   "execution_count": 12,
   "metadata": {},
   "outputs": [],
   "source": [
    "def stock_picker_model(x_train, y_train, x_val, y_val, params):\n",
    "    #Build model\n",
    "    model = Sequential()\n",
    "    model.add(Dense(params['first_layer'], activation='relu', input_dim=input_size,kernel_regularizer=regularizers.l2(0.01), activity_regularizer=regularizers.l1(0.00)))\n",
    "    model.add(Dense(1, activation='sigmoid'))\n",
    "    \n",
    "    #compile model\n",
    "    optimizer = optimizers.Adam(lr=0.001, beta_1 = 0.9, beta_2=0.999)\n",
    "    model.compile(optimizer=optimizer,\n",
    "                  loss = 'binary_crossentropy',\n",
    "                  metrics=['accuracy'])\n",
    "    \n",
    "    #fit\n",
    "    out = model.fit(x_train, y_train, \n",
    "                        validation_data=[x_val, y_val],\n",
    "                        batch_size=32,\n",
    "                        epochs=10,\n",
    "                        verbose=0)\n",
    "    \n",
    "    return out, model"
   ]
  },
  {
   "cell_type": "markdown",
   "metadata": {},
   "source": [
    "### Build parameters testing dictionnary"
   ]
  },
  {
   "cell_type": "code",
   "execution_count": 13,
   "metadata": {},
   "outputs": [],
   "source": [
    "p = {'first_layer' : [8, 16,32, 64]}"
   ]
  },
  {
   "cell_type": "markdown",
   "metadata": {},
   "source": [
    "### Run grid search"
   ]
  },
  {
   "cell_type": "code",
   "execution_count": 14,
   "metadata": {},
   "outputs": [
    {
     "name": "stderr",
     "output_type": "stream",
     "text": [
      "\n",
      "\n",
      "  0%|                                                        | 0/4 [00:00<?, ?it/s]\n",
      "\n",
      " 25%|████████████                                    | 1/4 [00:01<00:03,  1.11s/it]\n",
      "\n",
      " 50%|████████████████████████                        | 2/4 [00:02<00:02,  1.08s/it]\n",
      "\n",
      " 75%|████████████████████████████████████            | 3/4 [00:03<00:01,  1.06s/it]\n",
      "\n",
      "100%|████████████████████████████████████████████████| 4/4 [00:04<00:00,  1.06s/it]"
     ]
    }
   ],
   "source": [
    "t = ta.Scan(x=X_train,\n",
    "            y=y_train,\n",
    "            model=stock_picker_model,\n",
    "            params=p,\n",
    "            dataset_name='test_results',\n",
    "            experiment_no='1')\n",
    "            \n",
    "            "
   ]
  },
  {
   "cell_type": "code",
   "execution_count": null,
   "metadata": {},
   "outputs": [],
   "source": []
  }
 ],
 "metadata": {
  "kernelspec": {
   "display_name": "Python 3",
   "language": "python",
   "name": "python3"
  },
  "language_info": {
   "codemirror_mode": {
    "name": "ipython",
    "version": 3
   },
   "file_extension": ".py",
   "mimetype": "text/x-python",
   "name": "python",
   "nbconvert_exporter": "python",
   "pygments_lexer": "ipython3",
   "version": "3.6.8"
  }
 },
 "nbformat": 4,
 "nbformat_minor": 2
}
