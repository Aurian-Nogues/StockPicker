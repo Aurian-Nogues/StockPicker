{
 "cells": [
  {
   "cell_type": "markdown",
   "metadata": {},
   "source": [
    "### Import data"
   ]
  },
  {
   "cell_type": "code",
   "execution_count": 13,
   "metadata": {},
   "outputs": [
    {
     "data": {
      "text/html": [
       "<div>\n",
       "<style>\n",
       "    .dataframe thead tr:only-child th {\n",
       "        text-align: right;\n",
       "    }\n",
       "\n",
       "    .dataframe thead th {\n",
       "        text-align: left;\n",
       "    }\n",
       "\n",
       "    .dataframe tbody tr th {\n",
       "        vertical-align: top;\n",
       "    }\n",
       "</style>\n",
       "<table border=\"1\" class=\"dataframe\">\n",
       "  <thead>\n",
       "    <tr style=\"text-align: right;\">\n",
       "      <th></th>\n",
       "      <th>outperf vs index 1m</th>\n",
       "      <th>outperf vs index 3m</th>\n",
       "      <th>ST momentum</th>\n",
       "      <th>LT momentum</th>\n",
       "      <th>Index vs max</th>\n",
       "      <th>Index st momentum</th>\n",
       "      <th>ebit vs peak</th>\n",
       "      <th>net income vs peak</th>\n",
       "      <th>market cap vs peak</th>\n",
       "      <th>Margin vs peak</th>\n",
       "      <th>PE</th>\n",
       "      <th>xEbit</th>\n",
       "      <th>xSales</th>\n",
       "      <th>PE vs peak</th>\n",
       "      <th>xEbit vs peak</th>\n",
       "      <th>xSales vs peak</th>\n",
       "      <th>ND/market cap</th>\n",
       "      <th>outperf next month</th>\n",
       "    </tr>\n",
       "  </thead>\n",
       "  <tbody>\n",
       "    <tr>\n",
       "      <th>0</th>\n",
       "      <td>0.002703</td>\n",
       "      <td>0.142054</td>\n",
       "      <td>-0.024754</td>\n",
       "      <td>-0.026957</td>\n",
       "      <td>-0.2</td>\n",
       "      <td>0.017742</td>\n",
       "      <td>0.000000</td>\n",
       "      <td>0.000000</td>\n",
       "      <td>-0.046248</td>\n",
       "      <td>0.000000</td>\n",
       "      <td>8.164666</td>\n",
       "      <td>4.258310</td>\n",
       "      <td>0.201669</td>\n",
       "      <td>-0.222973</td>\n",
       "      <td>-0.241666</td>\n",
       "      <td>-0.077194</td>\n",
       "      <td>-0.420316</td>\n",
       "      <td>0</td>\n",
       "    </tr>\n",
       "    <tr>\n",
       "      <th>1</th>\n",
       "      <td>-0.034843</td>\n",
       "      <td>-0.099532</td>\n",
       "      <td>0.428953</td>\n",
       "      <td>0.278566</td>\n",
       "      <td>-0.2</td>\n",
       "      <td>0.017742</td>\n",
       "      <td>0.000000</td>\n",
       "      <td>0.000000</td>\n",
       "      <td>-0.035664</td>\n",
       "      <td>0.000000</td>\n",
       "      <td>3.338716</td>\n",
       "      <td>3.232125</td>\n",
       "      <td>0.228630</td>\n",
       "      <td>-0.560311</td>\n",
       "      <td>-0.339660</td>\n",
       "      <td>-0.170085</td>\n",
       "      <td>-0.291897</td>\n",
       "      <td>1</td>\n",
       "    </tr>\n",
       "    <tr>\n",
       "      <th>2</th>\n",
       "      <td>-0.005101</td>\n",
       "      <td>-0.262568</td>\n",
       "      <td>-0.014076</td>\n",
       "      <td>-0.078449</td>\n",
       "      <td>-0.2</td>\n",
       "      <td>0.017742</td>\n",
       "      <td>-1.518357</td>\n",
       "      <td>-1.629189</td>\n",
       "      <td>-0.228261</td>\n",
       "      <td>-1.569135</td>\n",
       "      <td>-19.416503</td>\n",
       "      <td>-15.838593</td>\n",
       "      <td>0.439608</td>\n",
       "      <td>-2.239239</td>\n",
       "      <td>-2.485813</td>\n",
       "      <td>-0.282300</td>\n",
       "      <td>-0.248044</td>\n",
       "      <td>0</td>\n",
       "    </tr>\n",
       "    <tr>\n",
       "      <th>3</th>\n",
       "      <td>0.009696</td>\n",
       "      <td>-0.052876</td>\n",
       "      <td>0.075785</td>\n",
       "      <td>0.161043</td>\n",
       "      <td>0.0</td>\n",
       "      <td>0.017742</td>\n",
       "      <td>0.000000</td>\n",
       "      <td>0.000000</td>\n",
       "      <td>-0.027157</td>\n",
       "      <td>0.000000</td>\n",
       "      <td>20.273615</td>\n",
       "      <td>13.099569</td>\n",
       "      <td>2.075199</td>\n",
       "      <td>-0.087932</td>\n",
       "      <td>-0.099589</td>\n",
       "      <td>-0.083936</td>\n",
       "      <td>-0.146034</td>\n",
       "      <td>0</td>\n",
       "    </tr>\n",
       "    <tr>\n",
       "      <th>4</th>\n",
       "      <td>0.011575</td>\n",
       "      <td>-0.134856</td>\n",
       "      <td>0.118982</td>\n",
       "      <td>0.216946</td>\n",
       "      <td>-0.2</td>\n",
       "      <td>0.017742</td>\n",
       "      <td>0.000000</td>\n",
       "      <td>0.000000</td>\n",
       "      <td>-0.093110</td>\n",
       "      <td>0.000000</td>\n",
       "      <td>17.850217</td>\n",
       "      <td>10.389390</td>\n",
       "      <td>2.263279</td>\n",
       "      <td>-0.102874</td>\n",
       "      <td>-0.268257</td>\n",
       "      <td>-0.223040</td>\n",
       "      <td>-0.021275</td>\n",
       "      <td>1</td>\n",
       "    </tr>\n",
       "  </tbody>\n",
       "</table>\n",
       "</div>"
      ],
      "text/plain": [
       "   outperf vs index 1m  outperf vs index 3m  ST momentum  LT momentum  \\\n",
       "0             0.002703             0.142054    -0.024754    -0.026957   \n",
       "1            -0.034843            -0.099532     0.428953     0.278566   \n",
       "2            -0.005101            -0.262568    -0.014076    -0.078449   \n",
       "3             0.009696            -0.052876     0.075785     0.161043   \n",
       "4             0.011575            -0.134856     0.118982     0.216946   \n",
       "\n",
       "   Index vs max  Index st momentum  ebit vs peak  net income vs peak  \\\n",
       "0          -0.2           0.017742      0.000000            0.000000   \n",
       "1          -0.2           0.017742      0.000000            0.000000   \n",
       "2          -0.2           0.017742     -1.518357           -1.629189   \n",
       "3           0.0           0.017742      0.000000            0.000000   \n",
       "4          -0.2           0.017742      0.000000            0.000000   \n",
       "\n",
       "   market cap vs peak  Margin vs peak         PE      xEbit    xSales  \\\n",
       "0           -0.046248        0.000000   8.164666   4.258310  0.201669   \n",
       "1           -0.035664        0.000000   3.338716   3.232125  0.228630   \n",
       "2           -0.228261       -1.569135 -19.416503 -15.838593  0.439608   \n",
       "3           -0.027157        0.000000  20.273615  13.099569  2.075199   \n",
       "4           -0.093110        0.000000  17.850217  10.389390  2.263279   \n",
       "\n",
       "   PE vs peak  xEbit vs peak  xSales vs peak  ND/market cap  \\\n",
       "0   -0.222973      -0.241666       -0.077194      -0.420316   \n",
       "1   -0.560311      -0.339660       -0.170085      -0.291897   \n",
       "2   -2.239239      -2.485813       -0.282300      -0.248044   \n",
       "3   -0.087932      -0.099589       -0.083936      -0.146034   \n",
       "4   -0.102874      -0.268257       -0.223040      -0.021275   \n",
       "\n",
       "   outperf next month  \n",
       "0                   0  \n",
       "1                   1  \n",
       "2                   0  \n",
       "3                   0  \n",
       "4                   1  "
      ]
     },
     "execution_count": 13,
     "metadata": {},
     "output_type": "execute_result"
    }
   ],
   "source": [
    "#read data and display first 5 rows\n",
    "import pandas as pd\n",
    "\n",
    "features = pd.read_csv('databases/rf_Database_2_training.csv')\n",
    "test_features = pd.read_csv('databases/rf_Database_2_test.csv')\n",
    "features.head(5)"
   ]
  },
  {
   "cell_type": "markdown",
   "metadata": {},
   "source": [
    "### process database"
   ]
  },
  {
   "cell_type": "code",
   "execution_count": 14,
   "metadata": {},
   "outputs": [],
   "source": [
    "#Process database\n",
    "import numpy as np\n",
    "\n",
    "#save labels\n",
    "labels = np.array(features['outperf next month'])\n",
    "test_labels = np.array(test_features['outperf next month'])\n",
    "#remove labels\n",
    "features=features.drop('outperf next month', axis = 1)\n",
    "test_features=test_features.drop('outperf next month', axis = 1)\n",
    "#save features names\n",
    "feature_list = list(features.columns)\n",
    "#convert to numpy array\n",
    "features = np.array(features)\n",
    "test_features = np.array(test_features)"
   ]
  },
  {
   "cell_type": "markdown",
   "metadata": {},
   "source": [
    "### train model"
   ]
  },
  {
   "cell_type": "code",
   "execution_count": 18,
   "metadata": {},
   "outputs": [
    {
     "data": {
      "text/plain": [
       "RandomForestClassifier(bootstrap=True, class_weight=None, criterion='gini',\n",
       "            max_depth=5, max_features=3, max_leaf_nodes=None,\n",
       "            min_impurity_decrease=0.0, min_impurity_split=None,\n",
       "            min_samples_leaf=1, min_samples_split=40,\n",
       "            min_weight_fraction_leaf=0.0, n_estimators=200, n_jobs=-1,\n",
       "            oob_score=False, random_state=None, verbose=0,\n",
       "            warm_start=False)"
      ]
     },
     "execution_count": 18,
     "metadata": {},
     "output_type": "execute_result"
    }
   ],
   "source": [
    "#import model\n",
    "from sklearn.ensemble import RandomForestClassifier\n",
    "clf = RandomForestClassifier(n_jobs=-1, min_samples_split = 40, n_estimators= 200, max_depth = 5, max_features = 3  )\n",
    "clf.fit(features,labels)\n",
    "\n"
   ]
  },
  {
   "cell_type": "markdown",
   "metadata": {},
   "source": [
    "### Save predictions"
   ]
  },
  {
   "cell_type": "code",
   "execution_count": 21,
   "metadata": {},
   "outputs": [],
   "source": [
    "predictions = clf.predict(test_features)\n",
    "predictions = pd.DataFrame(predictions, columns=['predictions']).to_csv('databases/rf_Database_2_results.csv')"
   ]
  },
  {
   "cell_type": "markdown",
   "metadata": {},
   "source": [
    "### features importance"
   ]
  },
  {
   "cell_type": "code",
   "execution_count": 22,
   "metadata": {},
   "outputs": [
    {
     "name": "stdout",
     "output_type": "stream",
     "text": [
      "Variable: market cap vs peak   Importance: 0.09\n",
      "Variable: ND/market cap        Importance: 0.08\n",
      "Variable: outperf vs index 1m  Importance: 0.07\n",
      "Variable: outperf vs index 3m  Importance: 0.07\n",
      "Variable: ST momentum          Importance: 0.07\n",
      "Variable: PE                   Importance: 0.07\n",
      "Variable: xEbit                Importance: 0.07\n",
      "Variable: xEbit vs peak        Importance: 0.07\n",
      "Variable: Index st momentum    Importance: 0.06\n",
      "Variable: PE vs peak           Importance: 0.06\n",
      "Variable: xSales vs peak       Importance: 0.06\n",
      "Variable: LT momentum          Importance: 0.05\n",
      "Variable: net income vs peak   Importance: 0.05\n",
      "Variable: Margin vs peak       Importance: 0.05\n",
      "Variable: xSales               Importance: 0.05\n",
      "Variable: ebit vs peak         Importance: 0.03\n",
      "Variable: Index vs max         Importance: 0.01\n"
     ]
    }
   ],
   "source": [
    "# Get numerical feature importances\n",
    "importances = list(clf.feature_importances_)\n",
    "\n",
    "# List of tuples with variable and importance\n",
    "feature_importances = [(feature, round(importance, 2)) for feature, importance in zip(feature_list, importances)]\n",
    "\n",
    "# Sort the feature importances by most important first\n",
    "feature_importances = sorted(feature_importances, key = lambda x: x[1], reverse = True)\n",
    "\n",
    "# Print out the feature and importances \n",
    "[print('Variable: {:20} Importance: {}'.format(*pair)) for pair in feature_importances];"
   ]
  },
  {
   "cell_type": "markdown",
   "metadata": {},
   "source": []
  },
  {
   "cell_type": "code",
   "execution_count": null,
   "metadata": {},
   "outputs": [],
   "source": []
  }
 ],
 "metadata": {
  "kernelspec": {
   "display_name": "TensorFlow-GPU",
   "language": "python",
   "name": "tf-gpu"
  },
  "language_info": {
   "codemirror_mode": {
    "name": "ipython",
    "version": 3
   },
   "file_extension": ".py",
   "mimetype": "text/x-python",
   "name": "python",
   "nbconvert_exporter": "python",
   "pygments_lexer": "ipython3",
   "version": "3.6.8"
  }
 },
 "nbformat": 4,
 "nbformat_minor": 2
}
