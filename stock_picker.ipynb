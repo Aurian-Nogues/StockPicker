{
 "cells": [
  {
   "cell_type": "code",
   "execution_count": 6,
   "metadata": {},
   "outputs": [
    {
     "name": "stderr",
     "output_type": "stream",
     "text": [
      "Using TensorFlow backend.\n"
     ]
    }
   ],
   "source": [
    "from ipynb.fs.full.functions import import_data\n",
    "from keras.models import Sequential\n",
    "from keras.layers import Dense, Activation\n",
    "from keras import optimizers\n",
    "import numpy as np\n",
    "import keras.utils"
   ]
  },
  {
   "cell_type": "markdown",
   "metadata": {},
   "source": [
    "### Import data"
   ]
  },
  {
   "cell_type": "code",
   "execution_count": 20,
   "metadata": {},
   "outputs": [],
   "source": [
    "X, Y = import_data('Database.csv')\n",
    "#convert labels to one-hot vectors\n",
    "one_hot_labels = keras.utils.to_categorical(Y, num_classes=3)"
   ]
  },
  {
   "cell_type": "markdown",
   "metadata": {},
   "source": [
    "### Build model "
   ]
  },
  {
   "cell_type": "code",
   "execution_count": 21,
   "metadata": {},
   "outputs": [],
   "source": [
    "model = Sequential()\n",
    "model.add(Dense(32, activation='relu', input_dim=24))\n",
    "model.add(Dense(3, activation='softmax'))"
   ]
  },
  {
   "cell_type": "markdown",
   "metadata": {},
   "source": [
    "### Compile model"
   ]
  },
  {
   "cell_type": "code",
   "execution_count": 22,
   "metadata": {},
   "outputs": [],
   "source": [
    "optimizer = optimizers.Adam(lr=0.001, beta_1 = 0.9, beta_2=0.999)\n",
    "model.compile(optimizer=optimizer,\n",
    "              loss='categorical_crossentropy',\n",
    "              metrics=['accuracy'])"
   ]
  },
  {
   "cell_type": "markdown",
   "metadata": {},
   "source": [
    "### Train model"
   ]
  },
  {
   "cell_type": "code",
   "execution_count": 23,
   "metadata": {},
   "outputs": [
    {
     "name": "stdout",
     "output_type": "stream",
     "text": [
      "Epoch 1/10\n",
      "82/82 [==============================] - 0s 4ms/step - loss: 2.2452 - acc: 0.5488\n",
      "Epoch 2/10\n",
      "82/82 [==============================] - 0s 49us/step - loss: 1.8850 - acc: 0.5732\n",
      "Epoch 3/10\n",
      "82/82 [==============================] - 0s 97us/step - loss: 1.5540 - acc: 0.5732\n",
      "Epoch 4/10\n",
      "82/82 [==============================] - 0s 49us/step - loss: 1.2219 - acc: 0.5366\n",
      "Epoch 5/10\n",
      "82/82 [==============================] - 0s 49us/step - loss: 1.1170 - acc: 0.4390\n",
      "Epoch 6/10\n",
      "82/82 [==============================] - 0s 49us/step - loss: 1.1523 - acc: 0.3415\n",
      "Epoch 7/10\n",
      "82/82 [==============================] - 0s 49us/step - loss: 1.1626 - acc: 0.3780\n",
      "Epoch 8/10\n",
      "82/82 [==============================] - 0s 97us/step - loss: 1.0958 - acc: 0.3659\n",
      "Epoch 9/10\n",
      "82/82 [==============================] - 0s 49us/step - loss: 1.0303 - acc: 0.5244\n",
      "Epoch 10/10\n",
      "82/82 [==============================] - 0s 49us/step - loss: 1.0093 - acc: 0.5732\n"
     ]
    },
    {
     "data": {
      "text/plain": [
       "<keras.callbacks.History at 0x2db6f5afdd8>"
      ]
     },
     "execution_count": 23,
     "metadata": {},
     "output_type": "execute_result"
    }
   ],
   "source": [
    "model.fit(X, one_hot_labels, epochs=10, batch_size=32)"
   ]
  },
  {
   "cell_type": "code",
   "execution_count": null,
   "metadata": {},
   "outputs": [],
   "source": []
  }
 ],
 "metadata": {
  "kernelspec": {
   "display_name": "Python 3",
   "language": "python",
   "name": "python3"
  },
  "language_info": {
   "codemirror_mode": {
    "name": "ipython",
    "version": 3
   },
   "file_extension": ".py",
   "mimetype": "text/x-python",
   "name": "python",
   "nbconvert_exporter": "python",
   "pygments_lexer": "ipython3",
   "version": "3.6.8"
  }
 },
 "nbformat": 4,
 "nbformat_minor": 2
}
