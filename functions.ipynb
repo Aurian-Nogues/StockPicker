{
 "cells": [
  {
   "cell_type": "code",
   "execution_count": 1,
   "metadata": {},
   "outputs": [],
   "source": [
    "import csv\n",
    "import numpy as np\n",
    "from sklearn.model_selection import train_test_split\n",
    "\n",
    "def import_data(database):\n",
    "    \"\"\"\n",
    "    Import dataset and load it into X and Y valriables\n",
    "    Arguments:\n",
    "    database -- name of csv files (ex: \"database.csv\")\n",
    "    Returns:\n",
    "    X -- numpy matrix containing training exemples of shape (m,n)\n",
    "    Y -- numpy vector containing labels of shame (m,1)\n",
    "    \n",
    "    \"\"\"\n",
    "    \n",
    "    #load dataset\n",
    "    data = np.genfromtxt(database, delimiter=',')\n",
    "    #get position of labels column (last column in dataset\n",
    "    \n",
    "    #define m number of training exemples and n number of features\n",
    "    #last dataset column is labels so n = number of columns - 1\n",
    "    m = data.shape[0]\n",
    "    n=data.shape[1] -1\n",
    "    \n",
    "    #assign data to variables\n",
    "    X = data[:,0:n]\n",
    "    Y = data[:,n]\n",
    "    Y = Y.reshape(( Y.shape[0],1))\n",
    "    X_train, X_test, y_train, y_test = train_test_split(X, Y, test_size=0.2)\n",
    "    \n",
    "    \n",
    "    return X, X_train, X_test, y_train, y_test"
   ]
  },
  {
   "cell_type": "code",
   "execution_count": 2,
   "metadata": {},
   "outputs": [],
   "source": [
    "X, X_train, X_test, y_train, y_test = import_data('Database_2.csv')"
   ]
  },
  {
   "cell_type": "code",
   "execution_count": null,
   "metadata": {},
   "outputs": [],
   "source": []
  },
  {
   "cell_type": "code",
   "execution_count": null,
   "metadata": {},
   "outputs": [],
   "source": []
  }
 ],
 "metadata": {
  "kernelspec": {
   "display_name": "Python 3",
   "language": "python",
   "name": "python3"
  },
  "language_info": {
   "codemirror_mode": {
    "name": "ipython",
    "version": 3
   },
   "file_extension": ".py",
   "mimetype": "text/x-python",
   "name": "python",
   "nbconvert_exporter": "python",
   "pygments_lexer": "ipython3",
   "version": "3.6.8"
  }
 },
 "nbformat": 4,
 "nbformat_minor": 2
}
